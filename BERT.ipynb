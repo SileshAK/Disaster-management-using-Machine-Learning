{
  "cells": [
    {
      "cell_type": "code",
      "execution_count": 19,
      "metadata": {
        "id": "f670da9b"
      },
      "outputs": [],
      "source": [
        "import tensorflow as tf\n",
        "import tensorflow_hub as hub\n",
        "import tensorflow_text as text\n"
      ],
      "id": "f670da9b"
    },
    {
      "cell_type": "code",
      "execution_count": 21,
      "metadata": {
        "id": "16bed911"
      },
      "outputs": [],
      "source": [
        "bert_preprocess = hub.KerasLayer(\"https://tfhub.dev/tensorflow/bert_en_uncased_preprocess/3\")\n",
        "bert_encoder = hub.KerasLayer(\"https://tfhub.dev/tensorflow/bert_en_uncased_L-12_H-768_A-12/4\")\n"
      ],
      "id": "16bed911"
    },
    {
      "cell_type": "code",
      "execution_count": 22,
      "metadata": {
        "colab": {
          "base_uri": "https://localhost:8080/",
          "height": 354
        },
        "id": "fe6289bc",
        "outputId": "29620a18-325d-4b8f-91e9-164fac7f7f4e"
      },
      "outputs": [
        {
          "output_type": "execute_result",
          "data": {
            "text/html": [
              "\n",
              "  <div id=\"df-7c22fe4f-8945-4f77-8d0c-f240786233b1\">\n",
              "    <div class=\"colab-df-container\">\n",
              "      <div>\n",
              "<style scoped>\n",
              "    .dataframe tbody tr th:only-of-type {\n",
              "        vertical-align: middle;\n",
              "    }\n",
              "\n",
              "    .dataframe tbody tr th {\n",
              "        vertical-align: top;\n",
              "    }\n",
              "\n",
              "    .dataframe thead th {\n",
              "        text-align: right;\n",
              "    }\n",
              "</style>\n",
              "<table border=\"1\" class=\"dataframe\">\n",
              "  <thead>\n",
              "    <tr style=\"text-align: right;\">\n",
              "      <th></th>\n",
              "      <th>Unnamed: 0</th>\n",
              "      <th>username</th>\n",
              "      <th>description</th>\n",
              "      <th>location</th>\n",
              "      <th>following</th>\n",
              "      <th>followers</th>\n",
              "      <th>totaltweets</th>\n",
              "      <th>retweetcount</th>\n",
              "      <th>text</th>\n",
              "      <th>target</th>\n",
              "      <th>hashtags</th>\n",
              "      <th>actual_time</th>\n",
              "    </tr>\n",
              "  </thead>\n",
              "  <tbody>\n",
              "    <tr>\n",
              "      <th>0</th>\n",
              "      <td>725</td>\n",
              "      <td>Ramvignesh490</td>\n",
              "      <td>NaN</td>\n",
              "      <td>Chennai</td>\n",
              "      <td>461</td>\n",
              "      <td>137</td>\n",
              "      <td>100993</td>\n",
              "      <td>106</td>\n",
              "      <td>Thousands of people throng the Chennai Metro R...</td>\n",
              "      <td>0</td>\n",
              "      <td>[]</td>\n",
              "      <td>2021-12-31 10:33:09+00:00</td>\n",
              "    </tr>\n",
              "    <tr>\n",
              "      <th>1</th>\n",
              "      <td>427</td>\n",
              "      <td>ManickamJebason</td>\n",
              "      <td>NaN</td>\n",
              "      <td>NaN</td>\n",
              "      <td>571</td>\n",
              "      <td>344</td>\n",
              "      <td>35084</td>\n",
              "      <td>605</td>\n",
              "      <td>If it floods everytime it rains, Then the rain...</td>\n",
              "      <td>1</td>\n",
              "      <td>['Chennai']</td>\n",
              "      <td>2021-12-31 09:18:18+00:00</td>\n",
              "    </tr>\n",
              "    <tr>\n",
              "      <th>2</th>\n",
              "      <td>542</td>\n",
              "      <td>nousha1212</td>\n",
              "      <td>தமிழன்...|born to express,not impress\\n|</td>\n",
              "      <td>NaN</td>\n",
              "      <td>567</td>\n",
              "      <td>88</td>\n",
              "      <td>7994</td>\n",
              "      <td>605</td>\n",
              "      <td>If it floods everytime it rains, Then the rain...</td>\n",
              "      <td>1</td>\n",
              "      <td>['Chennai']</td>\n",
              "      <td>2021-12-31 07:55:52+00:00</td>\n",
              "    </tr>\n",
              "    <tr>\n",
              "      <th>3</th>\n",
              "      <td>375</td>\n",
              "      <td>chinnapper_aj</td>\n",
              "      <td>NaN</td>\n",
              "      <td>NaN</td>\n",
              "      <td>459</td>\n",
              "      <td>362</td>\n",
              "      <td>2448</td>\n",
              "      <td>605</td>\n",
              "      <td>If it floods everytime it rains, Then the rain...</td>\n",
              "      <td>1</td>\n",
              "      <td>['Chennai']</td>\n",
              "      <td>2021-12-31 10:27:34+00:00</td>\n",
              "    </tr>\n",
              "    <tr>\n",
              "      <th>4</th>\n",
              "      <td>168</td>\n",
              "      <td>VMeenakshiSun13</td>\n",
              "      <td>NaN</td>\n",
              "      <td>NaN</td>\n",
              "      <td>129</td>\n",
              "      <td>0</td>\n",
              "      <td>70</td>\n",
              "      <td>605</td>\n",
              "      <td>If it floods everytime it rains, Then the rain...</td>\n",
              "      <td>1</td>\n",
              "      <td>['Chennai']</td>\n",
              "      <td>2022-01-01 05:29:50+00:00</td>\n",
              "    </tr>\n",
              "  </tbody>\n",
              "</table>\n",
              "</div>\n",
              "      <button class=\"colab-df-convert\" onclick=\"convertToInteractive('df-7c22fe4f-8945-4f77-8d0c-f240786233b1')\"\n",
              "              title=\"Convert this dataframe to an interactive table.\"\n",
              "              style=\"display:none;\">\n",
              "        \n",
              "  <svg xmlns=\"http://www.w3.org/2000/svg\" height=\"24px\"viewBox=\"0 0 24 24\"\n",
              "       width=\"24px\">\n",
              "    <path d=\"M0 0h24v24H0V0z\" fill=\"none\"/>\n",
              "    <path d=\"M18.56 5.44l.94 2.06.94-2.06 2.06-.94-2.06-.94-.94-2.06-.94 2.06-2.06.94zm-11 1L8.5 8.5l.94-2.06 2.06-.94-2.06-.94L8.5 2.5l-.94 2.06-2.06.94zm10 10l.94 2.06.94-2.06 2.06-.94-2.06-.94-.94-2.06-.94 2.06-2.06.94z\"/><path d=\"M17.41 7.96l-1.37-1.37c-.4-.4-.92-.59-1.43-.59-.52 0-1.04.2-1.43.59L10.3 9.45l-7.72 7.72c-.78.78-.78 2.05 0 2.83L4 21.41c.39.39.9.59 1.41.59.51 0 1.02-.2 1.41-.59l7.78-7.78 2.81-2.81c.8-.78.8-2.07 0-2.86zM5.41 20L4 18.59l7.72-7.72 1.47 1.35L5.41 20z\"/>\n",
              "  </svg>\n",
              "      </button>\n",
              "      \n",
              "  <style>\n",
              "    .colab-df-container {\n",
              "      display:flex;\n",
              "      flex-wrap:wrap;\n",
              "      gap: 12px;\n",
              "    }\n",
              "\n",
              "    .colab-df-convert {\n",
              "      background-color: #E8F0FE;\n",
              "      border: none;\n",
              "      border-radius: 50%;\n",
              "      cursor: pointer;\n",
              "      display: none;\n",
              "      fill: #1967D2;\n",
              "      height: 32px;\n",
              "      padding: 0 0 0 0;\n",
              "      width: 32px;\n",
              "    }\n",
              "\n",
              "    .colab-df-convert:hover {\n",
              "      background-color: #E2EBFA;\n",
              "      box-shadow: 0px 1px 2px rgba(60, 64, 67, 0.3), 0px 1px 3px 1px rgba(60, 64, 67, 0.15);\n",
              "      fill: #174EA6;\n",
              "    }\n",
              "\n",
              "    [theme=dark] .colab-df-convert {\n",
              "      background-color: #3B4455;\n",
              "      fill: #D2E3FC;\n",
              "    }\n",
              "\n",
              "    [theme=dark] .colab-df-convert:hover {\n",
              "      background-color: #434B5C;\n",
              "      box-shadow: 0px 1px 3px 1px rgba(0, 0, 0, 0.15);\n",
              "      filter: drop-shadow(0px 1px 2px rgba(0, 0, 0, 0.3));\n",
              "      fill: #FFFFFF;\n",
              "    }\n",
              "  </style>\n",
              "\n",
              "      <script>\n",
              "        const buttonEl =\n",
              "          document.querySelector('#df-7c22fe4f-8945-4f77-8d0c-f240786233b1 button.colab-df-convert');\n",
              "        buttonEl.style.display =\n",
              "          google.colab.kernel.accessAllowed ? 'block' : 'none';\n",
              "\n",
              "        async function convertToInteractive(key) {\n",
              "          const element = document.querySelector('#df-7c22fe4f-8945-4f77-8d0c-f240786233b1');\n",
              "          const dataTable =\n",
              "            await google.colab.kernel.invokeFunction('convertToInteractive',\n",
              "                                                     [key], {});\n",
              "          if (!dataTable) return;\n",
              "\n",
              "          const docLinkHtml = 'Like what you see? Visit the ' +\n",
              "            '<a target=\"_blank\" href=https://colab.research.google.com/notebooks/data_table.ipynb>data table notebook</a>'\n",
              "            + ' to learn more about interactive tables.';\n",
              "          element.innerHTML = '';\n",
              "          dataTable['output_type'] = 'display_data';\n",
              "          await google.colab.output.renderOutput(dataTable, element);\n",
              "          const docLink = document.createElement('div');\n",
              "          docLink.innerHTML = docLinkHtml;\n",
              "          element.appendChild(docLink);\n",
              "        }\n",
              "      </script>\n",
              "    </div>\n",
              "  </div>\n",
              "  "
            ],
            "text/plain": [
              "   Unnamed: 0         username  ...     hashtags                actual_time\n",
              "0         725    Ramvignesh490  ...           []  2021-12-31 10:33:09+00:00\n",
              "1         427  ManickamJebason  ...  ['Chennai']  2021-12-31 09:18:18+00:00\n",
              "2         542       nousha1212  ...  ['Chennai']  2021-12-31 07:55:52+00:00\n",
              "3         375    chinnapper_aj  ...  ['Chennai']  2021-12-31 10:27:34+00:00\n",
              "4         168  VMeenakshiSun13  ...  ['Chennai']  2022-01-01 05:29:50+00:00\n",
              "\n",
              "[5 rows x 12 columns]"
            ]
          },
          "metadata": {},
          "execution_count": 22
        }
      ],
      "source": [
        "import pandas as pd\n",
        "import numpy as np \n",
        "import nltk\n",
        "import tensorflow as tf\n",
        "df3=pd.read_csv(\"final_tweets.csv\",parse_dates = True)\n",
        "df3.head()\n"
      ],
      "id": "fe6289bc"
    },
    {
      "cell_type": "code",
      "execution_count": 23,
      "metadata": {
        "id": "3f53a375"
      },
      "outputs": [],
      "source": [
        "from sklearn.model_selection import train_test_split\n",
        "X_train, X_test, y_train, y_test = train_test_split((df3['text']),df3['target'],train_size=0.8,test_size=0.2,random_state=True)\n",
        "\n"
      ],
      "id": "3f53a375"
    },
    {
      "cell_type": "code",
      "execution_count": 24,
      "metadata": {
        "id": "234b9015"
      },
      "outputs": [],
      "source": [
        "text_input = tf.keras.layers.Input(shape=(), dtype=tf.string, name='text-layer')\n",
        "preprocessed_text = bert_preprocess(text_input)\n",
        "outputs = bert_encoder(preprocessed_text)\n",
        "d_layer = tf.keras.layers.Dropout(0.1, name=\"dropout-layer\")(outputs['pooled_output'])\n",
        "d_layer = tf.keras.layers.Dense(1, activation='sigmoid', name=\"output\")(d_layer)\n",
        "model = tf.keras.Model(inputs=[text_input], outputs = [d_layer])\n",
        "\n"
      ],
      "id": "234b9015"
    },
    {
      "cell_type": "code",
      "execution_count": 25,
      "metadata": {
        "colab": {
          "base_uri": "https://localhost:8080/",
          "height": 0
        },
        "id": "cafe57a5",
        "outputId": "3ba8b7a1-785c-4709-9a7d-3adb29f2f8cc"
      },
      "outputs": [
        {
          "output_type": "stream",
          "name": "stdout",
          "text": [
            "Model: \"model_1\"\n",
            "__________________________________________________________________________________________________\n",
            " Layer (type)                   Output Shape         Param #     Connected to                     \n",
            "==================================================================================================\n",
            " text-layer (InputLayer)        [(None,)]            0           []                               \n",
            "                                                                                                  \n",
            " keras_layer_3 (KerasLayer)     {'input_mask': (Non  0           ['text-layer[0][0]']             \n",
            "                                e, 128),                                                          \n",
            "                                 'input_word_ids':                                                \n",
            "                                (None, 128),                                                      \n",
            "                                 'input_type_ids':                                                \n",
            "                                (None, 128)}                                                      \n",
            "                                                                                                  \n",
            " keras_layer_4 (KerasLayer)     {'pooled_output': (  109482241   ['keras_layer_3[0][0]',          \n",
            "                                None, 768),                       'keras_layer_3[0][1]',          \n",
            "                                 'default': (None,                'keras_layer_3[0][2]']          \n",
            "                                768),                                                             \n",
            "                                 'encoder_outputs':                                               \n",
            "                                 [(None, 128, 768),                                               \n",
            "                                 (None, 128, 768),                                                \n",
            "                                 (None, 128, 768),                                                \n",
            "                                 (None, 128, 768),                                                \n",
            "                                 (None, 128, 768),                                                \n",
            "                                 (None, 128, 768),                                                \n",
            "                                 (None, 128, 768),                                                \n",
            "                                 (None, 128, 768),                                                \n",
            "                                 (None, 128, 768),                                                \n",
            "                                 (None, 128, 768),                                                \n",
            "                                 (None, 128, 768),                                                \n",
            "                                 (None, 128, 768)],                                               \n",
            "                                 'sequence_output':                                               \n",
            "                                 (None, 128, 768)}                                                \n",
            "                                                                                                  \n",
            " dropout-layer (Dropout)        (None, 768)          0           ['keras_layer_4[0][13]']         \n",
            "                                                                                                  \n",
            " output (Dense)                 (None, 1)            769         ['dropout-layer[0][0]']          \n",
            "                                                                                                  \n",
            "==================================================================================================\n",
            "Total params: 109,483,010\n",
            "Trainable params: 769\n",
            "Non-trainable params: 109,482,241\n",
            "__________________________________________________________________________________________________\n"
          ]
        }
      ],
      "source": [
        "model.summary()\n"
      ],
      "id": "cafe57a5"
    },
    {
      "cell_type": "code",
      "execution_count": 26,
      "metadata": {
        "id": "bea1d7d5"
      },
      "outputs": [],
      "source": [
        "m= [\n",
        "      tf.keras.metrics.BinaryAccuracy(name='accuracy'),\n",
        "      tf.keras.metrics.Precision(name='precision'),\n",
        "      tf.keras.metrics.Recall(name='recall')\n",
        "]\n",
        "model.compile(optimizer='adam', loss='binary_crossentropy', metrics=m)\n"
      ],
      "id": "bea1d7d5"
    },
    {
      "cell_type": "code",
      "execution_count": 27,
      "metadata": {
        "colab": {
          "base_uri": "https://localhost:8080/",
          "height": 0
        },
        "id": "af4bc6eb",
        "outputId": "4d6f2132-e81c-4f88-fed9-80bcd443ede6"
      },
      "outputs": [
        {
          "output_type": "stream",
          "name": "stdout",
          "text": [
            "Epoch 1/100\n",
            "20/20 [==============================] - 24s 656ms/step - loss: 0.4514 - accuracy: 0.8281 - precision: 0.8279 - recall: 1.0000\n",
            "Epoch 2/100\n",
            "20/20 [==============================] - 13s 657ms/step - loss: 0.4330 - accuracy: 0.8266 - precision: 0.8266 - recall: 1.0000\n",
            "Epoch 3/100\n",
            "20/20 [==============================] - 13s 657ms/step - loss: 0.4252 - accuracy: 0.8250 - precision: 0.8273 - recall: 0.9962\n",
            "Epoch 4/100\n",
            "20/20 [==============================] - 13s 659ms/step - loss: 0.4018 - accuracy: 0.8266 - precision: 0.8266 - recall: 1.0000\n",
            "Epoch 5/100\n",
            "20/20 [==============================] - 13s 655ms/step - loss: 0.3856 - accuracy: 0.8266 - precision: 0.8266 - recall: 1.0000\n",
            "Epoch 6/100\n",
            "20/20 [==============================] - 13s 657ms/step - loss: 0.3844 - accuracy: 0.8250 - precision: 0.8263 - recall: 0.9981\n",
            "Epoch 7/100\n",
            "20/20 [==============================] - 13s 654ms/step - loss: 0.3601 - accuracy: 0.8266 - precision: 0.8286 - recall: 0.9962\n",
            "Epoch 8/100\n",
            "20/20 [==============================] - 13s 654ms/step - loss: 0.3637 - accuracy: 0.8266 - precision: 0.8276 - recall: 0.9981\n",
            "Epoch 9/100\n",
            "20/20 [==============================] - 13s 654ms/step - loss: 0.3615 - accuracy: 0.8281 - precision: 0.8331 - recall: 0.9905\n",
            "Epoch 10/100\n",
            "20/20 [==============================] - 13s 655ms/step - loss: 0.3563 - accuracy: 0.8219 - precision: 0.8320 - recall: 0.9830\n",
            "Epoch 11/100\n",
            "20/20 [==============================] - 13s 657ms/step - loss: 0.3484 - accuracy: 0.8313 - precision: 0.8336 - recall: 0.9943\n",
            "Epoch 12/100\n",
            "20/20 [==============================] - 13s 657ms/step - loss: 0.3526 - accuracy: 0.8328 - precision: 0.8392 - recall: 0.9868\n",
            "Epoch 13/100\n",
            "20/20 [==============================] - 13s 653ms/step - loss: 0.3427 - accuracy: 0.8219 - precision: 0.8352 - recall: 0.9773\n",
            "Epoch 14/100\n",
            "20/20 [==============================] - 13s 655ms/step - loss: 0.3374 - accuracy: 0.8266 - precision: 0.8393 - recall: 0.9773\n",
            "Epoch 15/100\n",
            "20/20 [==============================] - 13s 655ms/step - loss: 0.3276 - accuracy: 0.8344 - precision: 0.8450 - recall: 0.9792\n",
            "Epoch 16/100\n",
            "20/20 [==============================] - 13s 654ms/step - loss: 0.3264 - accuracy: 0.8359 - precision: 0.8487 - recall: 0.9754\n",
            "Epoch 17/100\n",
            "20/20 [==============================] - 13s 653ms/step - loss: 0.3239 - accuracy: 0.8344 - precision: 0.8462 - recall: 0.9773\n",
            "Epoch 18/100\n",
            "20/20 [==============================] - 13s 654ms/step - loss: 0.3367 - accuracy: 0.8344 - precision: 0.8555 - recall: 0.9622\n",
            "Epoch 19/100\n",
            "20/20 [==============================] - 13s 654ms/step - loss: 0.3208 - accuracy: 0.8328 - precision: 0.8414 - recall: 0.9830\n",
            "Epoch 20/100\n",
            "20/20 [==============================] - 13s 653ms/step - loss: 0.3190 - accuracy: 0.8469 - precision: 0.8622 - recall: 0.9698\n",
            "Epoch 21/100\n",
            "20/20 [==============================] - 13s 653ms/step - loss: 0.3143 - accuracy: 0.8406 - precision: 0.8529 - recall: 0.9754\n",
            "Epoch 22/100\n",
            "20/20 [==============================] - 13s 654ms/step - loss: 0.3076 - accuracy: 0.8344 - precision: 0.8555 - recall: 0.9622\n",
            "Epoch 23/100\n",
            "20/20 [==============================] - 13s 655ms/step - loss: 0.3061 - accuracy: 0.8422 - precision: 0.8567 - recall: 0.9716\n",
            "Epoch 24/100\n",
            "20/20 [==============================] - 13s 654ms/step - loss: 0.2992 - accuracy: 0.8469 - precision: 0.8659 - recall: 0.9641\n",
            "Epoch 25/100\n",
            "20/20 [==============================] - 13s 654ms/step - loss: 0.3020 - accuracy: 0.8328 - precision: 0.8517 - recall: 0.9660\n",
            "Epoch 26/100\n",
            "20/20 [==============================] - 13s 651ms/step - loss: 0.3077 - accuracy: 0.8391 - precision: 0.8586 - recall: 0.9641\n",
            "Epoch 27/100\n",
            "20/20 [==============================] - 13s 654ms/step - loss: 0.3050 - accuracy: 0.8391 - precision: 0.8610 - recall: 0.9603\n",
            "Epoch 28/100\n",
            "20/20 [==============================] - 13s 654ms/step - loss: 0.2981 - accuracy: 0.8484 - precision: 0.8649 - recall: 0.9679\n",
            "Epoch 29/100\n",
            "20/20 [==============================] - 13s 652ms/step - loss: 0.3020 - accuracy: 0.8500 - precision: 0.8676 - recall: 0.9660\n",
            "Epoch 30/100\n",
            "20/20 [==============================] - 13s 652ms/step - loss: 0.2987 - accuracy: 0.8484 - precision: 0.8711 - recall: 0.9584\n",
            "Epoch 31/100\n",
            "20/20 [==============================] - 13s 654ms/step - loss: 0.2819 - accuracy: 0.8625 - precision: 0.8769 - recall: 0.9698\n",
            "Epoch 32/100\n",
            "20/20 [==============================] - 13s 652ms/step - loss: 0.2894 - accuracy: 0.8672 - precision: 0.8725 - recall: 0.9830\n",
            "Epoch 33/100\n",
            "20/20 [==============================] - 13s 654ms/step - loss: 0.2821 - accuracy: 0.8609 - precision: 0.8754 - recall: 0.9698\n",
            "Epoch 34/100\n",
            "20/20 [==============================] - 13s 650ms/step - loss: 0.2861 - accuracy: 0.8625 - precision: 0.8848 - recall: 0.9584\n",
            "Epoch 35/100\n",
            "20/20 [==============================] - 13s 653ms/step - loss: 0.2792 - accuracy: 0.8609 - precision: 0.8704 - recall: 0.9773\n",
            "Epoch 36/100\n",
            "20/20 [==============================] - 13s 651ms/step - loss: 0.2884 - accuracy: 0.8578 - precision: 0.8829 - recall: 0.9546\n",
            "Epoch 37/100\n",
            "20/20 [==============================] - 13s 654ms/step - loss: 0.2875 - accuracy: 0.8531 - precision: 0.8731 - recall: 0.9622\n",
            "Epoch 38/100\n",
            "20/20 [==============================] - 13s 652ms/step - loss: 0.2939 - accuracy: 0.8578 - precision: 0.8815 - recall: 0.9565\n",
            "Epoch 39/100\n",
            "20/20 [==============================] - 13s 653ms/step - loss: 0.2883 - accuracy: 0.8672 - precision: 0.8814 - recall: 0.9698\n",
            "Epoch 40/100\n",
            "20/20 [==============================] - 13s 652ms/step - loss: 0.2774 - accuracy: 0.8672 - precision: 0.8881 - recall: 0.9603\n",
            "Epoch 41/100\n",
            "20/20 [==============================] - 13s 652ms/step - loss: 0.2800 - accuracy: 0.8687 - precision: 0.8830 - recall: 0.9698\n",
            "Epoch 42/100\n",
            "20/20 [==============================] - 13s 654ms/step - loss: 0.2866 - accuracy: 0.8547 - precision: 0.8720 - recall: 0.9660\n",
            "Epoch 43/100\n",
            "20/20 [==============================] - 13s 654ms/step - loss: 0.2829 - accuracy: 0.8641 - precision: 0.8877 - recall: 0.9565\n",
            "Epoch 44/100\n",
            "20/20 [==============================] - 13s 655ms/step - loss: 0.2754 - accuracy: 0.8656 - precision: 0.8852 - recall: 0.9622\n",
            "Epoch 45/100\n",
            "20/20 [==============================] - 13s 659ms/step - loss: 0.2785 - accuracy: 0.8562 - precision: 0.8895 - recall: 0.9433\n",
            "Epoch 46/100\n",
            "20/20 [==============================] - 13s 662ms/step - loss: 0.2701 - accuracy: 0.8672 - precision: 0.8936 - recall: 0.9527\n",
            "Epoch 47/100\n",
            "20/20 [==============================] - 13s 661ms/step - loss: 0.2767 - accuracy: 0.8656 - precision: 0.8852 - recall: 0.9622\n",
            "Epoch 48/100\n",
            "20/20 [==============================] - 13s 661ms/step - loss: 0.2792 - accuracy: 0.8734 - precision: 0.8889 - recall: 0.9679\n",
            "Epoch 49/100\n",
            "20/20 [==============================] - 13s 659ms/step - loss: 0.2718 - accuracy: 0.8750 - precision: 0.9045 - recall: 0.9490\n",
            "Epoch 50/100\n",
            "20/20 [==============================] - 13s 661ms/step - loss: 0.2666 - accuracy: 0.8719 - precision: 0.8914 - recall: 0.9622\n",
            "Epoch 51/100\n",
            "20/20 [==============================] - 13s 657ms/step - loss: 0.2717 - accuracy: 0.8625 - precision: 0.8903 - recall: 0.9509\n",
            "Epoch 52/100\n",
            "20/20 [==============================] - 13s 658ms/step - loss: 0.2646 - accuracy: 0.8734 - precision: 0.8944 - recall: 0.9603\n",
            "Epoch 53/100\n",
            "20/20 [==============================] - 13s 657ms/step - loss: 0.2696 - accuracy: 0.8656 - precision: 0.8934 - recall: 0.9509\n",
            "Epoch 54/100\n",
            "20/20 [==============================] - 13s 657ms/step - loss: 0.2689 - accuracy: 0.8859 - precision: 0.8972 - recall: 0.9735\n",
            "Epoch 55/100\n",
            "20/20 [==============================] - 13s 657ms/step - loss: 0.2643 - accuracy: 0.8875 - precision: 0.9102 - recall: 0.9584\n",
            "Epoch 56/100\n",
            "20/20 [==============================] - 13s 658ms/step - loss: 0.2798 - accuracy: 0.8609 - precision: 0.8806 - recall: 0.9622\n",
            "Epoch 57/100\n",
            "20/20 [==============================] - 13s 659ms/step - loss: 0.2677 - accuracy: 0.8672 - precision: 0.8936 - recall: 0.9527\n",
            "Epoch 58/100\n",
            "20/20 [==============================] - 13s 658ms/step - loss: 0.2595 - accuracy: 0.8766 - precision: 0.9004 - recall: 0.9565\n",
            "Epoch 59/100\n",
            "20/20 [==============================] - 13s 658ms/step - loss: 0.2669 - accuracy: 0.8844 - precision: 0.9012 - recall: 0.9660\n",
            "Epoch 60/100\n",
            "20/20 [==============================] - 13s 660ms/step - loss: 0.2642 - accuracy: 0.8719 - precision: 0.8860 - recall: 0.9698\n",
            "Epoch 61/100\n",
            "20/20 [==============================] - 13s 659ms/step - loss: 0.2774 - accuracy: 0.8641 - precision: 0.8877 - recall: 0.9565\n",
            "Epoch 62/100\n",
            "20/20 [==============================] - 13s 657ms/step - loss: 0.2614 - accuracy: 0.8797 - precision: 0.9065 - recall: 0.9527\n",
            "Epoch 63/100\n",
            "20/20 [==============================] - 13s 660ms/step - loss: 0.2562 - accuracy: 0.8922 - precision: 0.9137 - recall: 0.9603\n",
            "Epoch 64/100\n",
            "20/20 [==============================] - 13s 658ms/step - loss: 0.2696 - accuracy: 0.8703 - precision: 0.8926 - recall: 0.9584\n",
            "Epoch 65/100\n",
            "20/20 [==============================] - 13s 662ms/step - loss: 0.2446 - accuracy: 0.9047 - precision: 0.9134 - recall: 0.9773\n",
            "Epoch 66/100\n",
            "20/20 [==============================] - 13s 657ms/step - loss: 0.2588 - accuracy: 0.8828 - precision: 0.9112 - recall: 0.9509\n",
            "Epoch 67/100\n",
            "20/20 [==============================] - 13s 659ms/step - loss: 0.2605 - accuracy: 0.8672 - precision: 0.8854 - recall: 0.9641\n",
            "Epoch 68/100\n",
            "20/20 [==============================] - 13s 657ms/step - loss: 0.2587 - accuracy: 0.8797 - precision: 0.8965 - recall: 0.9660\n",
            "Epoch 69/100\n",
            "20/20 [==============================] - 13s 657ms/step - loss: 0.2514 - accuracy: 0.8781 - precision: 0.9063 - recall: 0.9509\n",
            "Epoch 70/100\n",
            "20/20 [==============================] - 13s 658ms/step - loss: 0.2599 - accuracy: 0.8813 - precision: 0.8925 - recall: 0.9735\n",
            "Epoch 71/100\n",
            "20/20 [==============================] - 13s 655ms/step - loss: 0.2553 - accuracy: 0.8750 - precision: 0.8988 - recall: 0.9565\n",
            "Epoch 72/100\n",
            "20/20 [==============================] - 13s 661ms/step - loss: 0.2576 - accuracy: 0.8859 - precision: 0.9145 - recall: 0.9509\n",
            "Epoch 73/100\n",
            "20/20 [==============================] - 13s 658ms/step - loss: 0.2557 - accuracy: 0.8891 - precision: 0.9032 - recall: 0.9698\n",
            "Epoch 74/100\n",
            "20/20 [==============================] - 13s 657ms/step - loss: 0.2503 - accuracy: 0.8844 - precision: 0.9070 - recall: 0.9584\n",
            "Epoch 75/100\n",
            "20/20 [==============================] - 13s 660ms/step - loss: 0.2529 - accuracy: 0.8906 - precision: 0.9106 - recall: 0.9622\n",
            "Epoch 76/100\n",
            "20/20 [==============================] - 13s 658ms/step - loss: 0.2466 - accuracy: 0.8844 - precision: 0.9012 - recall: 0.9660\n",
            "Epoch 77/100\n",
            "20/20 [==============================] - 13s 660ms/step - loss: 0.2394 - accuracy: 0.8984 - precision: 0.9188 - recall: 0.9622\n",
            "Epoch 78/100\n",
            "20/20 [==============================] - 13s 658ms/step - loss: 0.2524 - accuracy: 0.8969 - precision: 0.9127 - recall: 0.9679\n",
            "Epoch 79/100\n",
            "20/20 [==============================] - 13s 659ms/step - loss: 0.2446 - accuracy: 0.8906 - precision: 0.9106 - recall: 0.9622\n",
            "Epoch 80/100\n",
            "20/20 [==============================] - 13s 661ms/step - loss: 0.2508 - accuracy: 0.8938 - precision: 0.9138 - recall: 0.9622\n",
            "Epoch 81/100\n",
            "20/20 [==============================] - 13s 661ms/step - loss: 0.2524 - accuracy: 0.8813 - precision: 0.9066 - recall: 0.9546\n",
            "Epoch 82/100\n",
            "20/20 [==============================] - 13s 664ms/step - loss: 0.2447 - accuracy: 0.8953 - precision: 0.9215 - recall: 0.9546\n",
            "Epoch 83/100\n",
            "20/20 [==============================] - 13s 662ms/step - loss: 0.2423 - accuracy: 0.8906 - precision: 0.9062 - recall: 0.9679\n",
            "Epoch 84/100\n",
            "20/20 [==============================] - 13s 661ms/step - loss: 0.2404 - accuracy: 0.8828 - precision: 0.9054 - recall: 0.9584\n",
            "Epoch 85/100\n",
            "20/20 [==============================] - 13s 654ms/step - loss: 0.2410 - accuracy: 0.9000 - precision: 0.9266 - recall: 0.9546\n",
            "Epoch 86/100\n",
            "20/20 [==============================] - 13s 651ms/step - loss: 0.2479 - accuracy: 0.8906 - precision: 0.9062 - recall: 0.9679\n",
            "Epoch 87/100\n",
            "20/20 [==============================] - 13s 650ms/step - loss: 0.2450 - accuracy: 0.9047 - precision: 0.9120 - recall: 0.9792\n",
            "Epoch 88/100\n",
            "20/20 [==============================] - 13s 652ms/step - loss: 0.2401 - accuracy: 0.8922 - precision: 0.9107 - recall: 0.9641\n",
            "Epoch 89/100\n",
            "20/20 [==============================] - 13s 651ms/step - loss: 0.2452 - accuracy: 0.8922 - precision: 0.9107 - recall: 0.9641\n",
            "Epoch 90/100\n",
            "20/20 [==============================] - 13s 653ms/step - loss: 0.2461 - accuracy: 0.8922 - precision: 0.9182 - recall: 0.9546\n",
            "Epoch 91/100\n",
            "20/20 [==============================] - 13s 651ms/step - loss: 0.2374 - accuracy: 0.8984 - precision: 0.9143 - recall: 0.9679\n",
            "Epoch 92/100\n",
            "20/20 [==============================] - 13s 653ms/step - loss: 0.2409 - accuracy: 0.8891 - precision: 0.9018 - recall: 0.9716\n",
            "Epoch 93/100\n",
            "20/20 [==============================] - 13s 654ms/step - loss: 0.2427 - accuracy: 0.8891 - precision: 0.9149 - recall: 0.9546\n",
            "Epoch 94/100\n",
            "20/20 [==============================] - 13s 652ms/step - loss: 0.2384 - accuracy: 0.8859 - precision: 0.9116 - recall: 0.9546\n",
            "Epoch 95/100\n",
            "20/20 [==============================] - 13s 654ms/step - loss: 0.2468 - accuracy: 0.8922 - precision: 0.9064 - recall: 0.9698\n",
            "Epoch 96/100\n",
            "20/20 [==============================] - 13s 651ms/step - loss: 0.2402 - accuracy: 0.8906 - precision: 0.9135 - recall: 0.9584\n",
            "Epoch 97/100\n",
            "20/20 [==============================] - 13s 650ms/step - loss: 0.2366 - accuracy: 0.8969 - precision: 0.9171 - recall: 0.9622\n",
            "Epoch 98/100\n",
            "20/20 [==============================] - 13s 650ms/step - loss: 0.2357 - accuracy: 0.8938 - precision: 0.9080 - recall: 0.9698\n",
            "Epoch 99/100\n",
            "20/20 [==============================] - 13s 651ms/step - loss: 0.2494 - accuracy: 0.8906 - precision: 0.9135 - recall: 0.9584\n",
            "Epoch 100/100\n",
            "20/20 [==============================] - 13s 652ms/step - loss: 0.2395 - accuracy: 0.8828 - precision: 0.9039 - recall: 0.9603\n"
          ]
        },
        {
          "output_type": "execute_result",
          "data": {
            "text/plain": [
              "<keras.callbacks.History at 0x7f1a5348d990>"
            ]
          },
          "metadata": {},
          "execution_count": 27
        }
      ],
      "source": [
        "model.fit(X_train, y_train,epochs=100)\n"
      ],
      "id": "af4bc6eb"
    },
    {
      "cell_type": "code",
      "execution_count": 28,
      "metadata": {
        "colab": {
          "base_uri": "https://localhost:8080/",
          "height": 0
        },
        "id": "e5de32c9",
        "outputId": "4d3b22ce-799d-453e-d403-2f63c528b946"
      },
      "outputs": [
        {
          "output_type": "execute_result",
          "data": {
            "text/plain": [
              "array([[ 15,  13],\n",
              "       [ 12, 120]])"
            ]
          },
          "metadata": {},
          "execution_count": 28
        }
      ],
      "source": [
        "import numpy as np\n",
        "y_predicted = model.predict(X_test)\n",
        "y_predicted = y_predicted.flatten()\n",
        "y_predicted = np.where(y_predicted > 0.5, 1, 0)\n",
        "from sklearn.metrics import confusion_matrix, classification_report\n",
        "matrix = confusion_matrix(y_test, y_predicted)\n",
        "matrix"
      ],
      "id": "e5de32c9"
    },
    {
      "cell_type": "code",
      "execution_count": 29,
      "metadata": {
        "colab": {
          "base_uri": "https://localhost:8080/",
          "height": 0
        },
        "id": "a052224e",
        "outputId": "96b2b0aa-4adc-45c2-e746-06fd95f1ee33"
      },
      "outputs": [
        {
          "output_type": "stream",
          "name": "stdout",
          "text": [
            "              precision    recall  f1-score   support\n",
            "\n",
            "           0       0.56      0.54      0.55        28\n",
            "           1       0.90      0.91      0.91       132\n",
            "\n",
            "    accuracy                           0.84       160\n",
            "   macro avg       0.73      0.72      0.73       160\n",
            "weighted avg       0.84      0.84      0.84       160\n",
            "\n"
          ]
        }
      ],
      "source": [
        "print(classification_report(y_test, y_predicted))"
      ],
      "id": "a052224e"
    },
    {
      "cell_type": "code",
      "execution_count": 30,
      "metadata": {
        "colab": {
          "base_uri": "https://localhost:8080/",
          "height": 0
        },
        "id": "89e207d4",
        "outputId": "ce1066dd-5e21-4bd4-839e-9aa797c0813a"
      },
      "outputs": [
        {
          "output_type": "execute_result",
          "data": {
            "text/plain": [
              "array([[0.8335012 ],\n",
              "       [0.25470257]], dtype=float32)"
            ]
          },
          "metadata": {},
          "execution_count": 30
        }
      ],
      "source": [
        "t = ['chennai drowning red alert floods','i am student']\n",
        "model.predict(t)"
      ],
      "id": "89e207d4"
    },
    {
      "cell_type": "code",
      "execution_count": 31,
      "metadata": {
        "colab": {
          "base_uri": "https://localhost:8080/",
          "height": 0
        },
        "id": "GoynjsUcnOwx",
        "outputId": "c1f5297b-c057-40c8-df10-0e87eefbd3a7"
      },
      "outputs": [
        {
          "output_type": "execute_result",
          "data": {
            "text/plain": [
              "array([[ 15,  13],\n",
              "       [ 12, 120]])"
            ]
          },
          "metadata": {},
          "execution_count": 31
        }
      ],
      "source": [
        "from sklearn.metrics import confusion_matrix, classification_report\n",
        "cm = confusion_matrix(y_test, y_predicted)\n",
        "cm"
      ],
      "id": "GoynjsUcnOwx"
    },
    {
      "cell_type": "code",
      "execution_count": 32,
      "metadata": {
        "colab": {
          "base_uri": "https://localhost:8080/",
          "height": 300
        },
        "id": "wRhR6k6-i_fj",
        "outputId": "9067be63-6365-430c-b62e-9805da073c10"
      },
      "outputs": [
        {
          "output_type": "execute_result",
          "data": {
            "text/plain": [
              "Text(33.0, 0.5, 'Truth')"
            ]
          },
          "metadata": {},
          "execution_count": 32
        },
        {
          "output_type": "display_data",
          "data": {
            "image/png": "[encoded data removed]",
            "text/plain": [
              "<Figure size 432x288 with 2 Axes>"
            ]
          },
          "metadata": {
            "needs_background": "light"
          }
        }
      ],
      "source": [
        "from matplotlib import pyplot as plt\n",
        "import seaborn as sn\n",
        "sn.heatmap(cm, annot=True, fmt='d')\n",
        "plt.xlabel('Predicted')\n",
        "plt.ylabel('Truth')"
      ],
      "id": "wRhR6k6-i_fj"
    },
    {
      "cell_type": "code",
      "execution_count": 33,
      "metadata": {
        "colab": {
          "base_uri": "https://localhost:8080/",
          "height": 371
        },
        "id": "5yA9c1O-YaYj",
        "outputId": "46e99192-c738-45fd-d8c4-b08931e07ab5"
      },
      "outputs": [
        {
          "output_type": "execute_result",
          "data": {
            "text/html": [
              "\n",
              "  <div id=\"df-38e2fbb2-5ddf-492f-8047-101ab3e37e01\">\n",
              "    <div class=\"colab-df-container\">\n",
              "      <div>\n",
              "<style scoped>\n",
              "    .dataframe tbody tr th:only-of-type {\n",
              "        vertical-align: middle;\n",
              "    }\n",
              "\n",
              "    .dataframe tbody tr th {\n",
              "        vertical-align: top;\n",
              "    }\n",
              "\n",
              "    .dataframe thead th {\n",
              "        text-align: right;\n",
              "    }\n",
              "</style>\n",
              "<table border=\"1\" class=\"dataframe\">\n",
              "  <thead>\n",
              "    <tr style=\"text-align: right;\">\n",
              "      <th></th>\n",
              "      <th>Unnamed: 0</th>\n",
              "      <th>username</th>\n",
              "      <th>description</th>\n",
              "      <th>location</th>\n",
              "      <th>following</th>\n",
              "      <th>followers</th>\n",
              "      <th>totaltweets</th>\n",
              "      <th>retweetcount</th>\n",
              "      <th>text</th>\n",
              "      <th>target</th>\n",
              "      <th>hashtags</th>\n",
              "      <th>actual_time</th>\n",
              "      <th>date</th>\n",
              "      <th>time</th>\n",
              "    </tr>\n",
              "  </thead>\n",
              "  <tbody>\n",
              "    <tr>\n",
              "      <th>0</th>\n",
              "      <td>725</td>\n",
              "      <td>Ramvignesh490</td>\n",
              "      <td>NaN</td>\n",
              "      <td>Chennai</td>\n",
              "      <td>461</td>\n",
              "      <td>137</td>\n",
              "      <td>100993</td>\n",
              "      <td>106</td>\n",
              "      <td>Thousands of people throng the Chennai Metro R...</td>\n",
              "      <td>0</td>\n",
              "      <td>[]</td>\n",
              "      <td>2021-12-31 10:33:09+00:00</td>\n",
              "      <td>2021-12-31</td>\n",
              "      <td>10:33:09</td>\n",
              "    </tr>\n",
              "    <tr>\n",
              "      <th>1</th>\n",
              "      <td>427</td>\n",
              "      <td>ManickamJebason</td>\n",
              "      <td>NaN</td>\n",
              "      <td>NaN</td>\n",
              "      <td>571</td>\n",
              "      <td>344</td>\n",
              "      <td>35084</td>\n",
              "      <td>605</td>\n",
              "      <td>If it floods everytime it rains, Then the rain...</td>\n",
              "      <td>1</td>\n",
              "      <td>['Chennai']</td>\n",
              "      <td>2021-12-31 09:18:18+00:00</td>\n",
              "      <td>2021-12-31</td>\n",
              "      <td>09:18:18</td>\n",
              "    </tr>\n",
              "    <tr>\n",
              "      <th>2</th>\n",
              "      <td>542</td>\n",
              "      <td>nousha1212</td>\n",
              "      <td>தமிழன்...|born to express,not impress\\n|</td>\n",
              "      <td>NaN</td>\n",
              "      <td>567</td>\n",
              "      <td>88</td>\n",
              "      <td>7994</td>\n",
              "      <td>605</td>\n",
              "      <td>If it floods everytime it rains, Then the rain...</td>\n",
              "      <td>1</td>\n",
              "      <td>['Chennai']</td>\n",
              "      <td>2021-12-31 07:55:52+00:00</td>\n",
              "      <td>2021-12-31</td>\n",
              "      <td>07:55:52</td>\n",
              "    </tr>\n",
              "    <tr>\n",
              "      <th>3</th>\n",
              "      <td>375</td>\n",
              "      <td>chinnapper_aj</td>\n",
              "      <td>NaN</td>\n",
              "      <td>NaN</td>\n",
              "      <td>459</td>\n",
              "      <td>362</td>\n",
              "      <td>2448</td>\n",
              "      <td>605</td>\n",
              "      <td>If it floods everytime it rains, Then the rain...</td>\n",
              "      <td>1</td>\n",
              "      <td>['Chennai']</td>\n",
              "      <td>2021-12-31 10:27:34+00:00</td>\n",
              "      <td>2021-12-31</td>\n",
              "      <td>10:27:34</td>\n",
              "    </tr>\n",
              "    <tr>\n",
              "      <th>4</th>\n",
              "      <td>168</td>\n",
              "      <td>VMeenakshiSun13</td>\n",
              "      <td>NaN</td>\n",
              "      <td>NaN</td>\n",
              "      <td>129</td>\n",
              "      <td>0</td>\n",
              "      <td>70</td>\n",
              "      <td>605</td>\n",
              "      <td>If it floods everytime it rains, Then the rain...</td>\n",
              "      <td>1</td>\n",
              "      <td>['Chennai']</td>\n",
              "      <td>2022-01-01 05:29:50+00:00</td>\n",
              "      <td>2022-01-01</td>\n",
              "      <td>05:29:50</td>\n",
              "    </tr>\n",
              "  </tbody>\n",
              "</table>\n",
              "</div>\n",
              "      <button class=\"colab-df-convert\" onclick=\"convertToInteractive('df-38e2fbb2-5ddf-492f-8047-101ab3e37e01')\"\n",
              "              title=\"Convert this dataframe to an interactive table.\"\n",
              "              style=\"display:none;\">\n",
              "        \n",
              "  <svg xmlns=\"http://www.w3.org/2000/svg\" height=\"24px\"viewBox=\"0 0 24 24\"\n",
              "       width=\"24px\">\n",
              "    <path d=\"M0 0h24v24H0V0z\" fill=\"none\"/>\n",
              "    <path d=\"M18.56 5.44l.94 2.06.94-2.06 2.06-.94-2.06-.94-.94-2.06-.94 2.06-2.06.94zm-11 1L8.5 8.5l.94-2.06 2.06-.94-2.06-.94L8.5 2.5l-.94 2.06-2.06.94zm10 10l.94 2.06.94-2.06 2.06-.94-2.06-.94-.94-2.06-.94 2.06-2.06.94z\"/><path d=\"M17.41 7.96l-1.37-1.37c-.4-.4-.92-.59-1.43-.59-.52 0-1.04.2-1.43.59L10.3 9.45l-7.72 7.72c-.78.78-.78 2.05 0 2.83L4 21.41c.39.39.9.59 1.41.59.51 0 1.02-.2 1.41-.59l7.78-7.78 2.81-2.81c.8-.78.8-2.07 0-2.86zM5.41 20L4 18.59l7.72-7.72 1.47 1.35L5.41 20z\"/>\n",
              "  </svg>\n",
              "      </button>\n",
              "      \n",
              "  <style>\n",
              "    .colab-df-container {\n",
              "      display:flex;\n",
              "      flex-wrap:wrap;\n",
              "      gap: 12px;\n",
              "    }\n",
              "\n",
              "    .colab-df-convert {\n",
              "      background-color: #E8F0FE;\n",
              "      border: none;\n",
              "      border-radius: 50%;\n",
              "      cursor: pointer;\n",
              "      display: none;\n",
              "      fill: #1967D2;\n",
              "      height: 32px;\n",
              "      padding: 0 0 0 0;\n",
              "      width: 32px;\n",
              "    }\n",
              "\n",
              "    .colab-df-convert:hover {\n",
              "      background-color: #E2EBFA;\n",
              "      box-shadow: 0px 1px 2px rgba(60, 64, 67, 0.3), 0px 1px 3px 1px rgba(60, 64, 67, 0.15);\n",
              "      fill: #174EA6;\n",
              "    }\n",
              "\n",
              "    [theme=dark] .colab-df-convert {\n",
              "      background-color: #3B4455;\n",
              "      fill: #D2E3FC;\n",
              "    }\n",
              "\n",
              "    [theme=dark] .colab-df-convert:hover {\n",
              "      background-color: #434B5C;\n",
              "      box-shadow: 0px 1px 3px 1px rgba(0, 0, 0, 0.15);\n",
              "      filter: drop-shadow(0px 1px 2px rgba(0, 0, 0, 0.3));\n",
              "      fill: #FFFFFF;\n",
              "    }\n",
              "  </style>\n",
              "\n",
              "      <script>\n",
              "        const buttonEl =\n",
              "          document.querySelector('#df-38e2fbb2-5ddf-492f-8047-101ab3e37e01 button.colab-df-convert');\n",
              "        buttonEl.style.display =\n",
              "          google.colab.kernel.accessAllowed ? 'block' : 'none';\n",
              "\n",
              "        async function convertToInteractive(key) {\n",
              "          const element = document.querySelector('#df-38e2fbb2-5ddf-492f-8047-101ab3e37e01');\n",
              "          const dataTable =\n",
              "            await google.colab.kernel.invokeFunction('convertToInteractive',\n",
              "                                                     [key], {});\n",
              "          if (!dataTable) return;\n",
              "\n",
              "          const docLinkHtml = 'Like what you see? Visit the ' +\n",
              "            '<a target=\"_blank\" href=https://colab.research.google.com/notebooks/data_table.ipynb>data table notebook</a>'\n",
              "            + ' to learn more about interactive tables.';\n",
              "          element.innerHTML = '';\n",
              "          dataTable['output_type'] = 'display_data';\n",
              "          await google.colab.output.renderOutput(dataTable, element);\n",
              "          const docLink = document.createElement('div');\n",
              "          docLink.innerHTML = docLinkHtml;\n",
              "          element.appendChild(docLink);\n",
              "        }\n",
              "      </script>\n",
              "    </div>\n",
              "  </div>\n",
              "  "
            ],
            "text/plain": [
              "   Unnamed: 0         username  ...        date      time\n",
              "0         725    Ramvignesh490  ...  2021-12-31  10:33:09\n",
              "1         427  ManickamJebason  ...  2021-12-31  09:18:18\n",
              "2         542       nousha1212  ...  2021-12-31  07:55:52\n",
              "3         375    chinnapper_aj  ...  2021-12-31  10:27:34\n",
              "4         168  VMeenakshiSun13  ...  2022-01-01  05:29:50\n",
              "\n",
              "[5 rows x 14 columns]"
            ]
          },
          "metadata": {},
          "execution_count": 33
        }
      ],
      "source": [
        "df3['date'] = pd.to_datetime(df3['actual_time']).dt.date\n",
        "df3['time'] = pd.to_datetime(df3['actual_time']).dt.time\n",
        "df3.head()"
      ],
      "id": "5yA9c1O-YaYj"
    },
    {
      "cell_type": "code",
      "execution_count": 34,
      "metadata": {
        "colab": {
          "base_uri": "https://localhost:8080/",
          "height": 279
        },
        "id": "MlMzrVV1X-OX",
        "outputId": "6f2b0755-5b3b-42c4-c79f-a01f44ca89a6"
      },
      "outputs": [
        {
          "output_type": "display_data",
          "data": {
            "image/png": "[encoded data removed]",
            "text/plain": [
              "<Figure size 432x288 with 1 Axes>"
            ]
          },
          "metadata": {
            "needs_background": "light"
          }
        }
      ],
      "source": [
        "import matplotlib.pyplot as plt\n",
        "\n",
        "plt.hist(df3['date'])\n",
        "plt.xlabel(\"Date\")\n",
        "plt.ylabel(\"Count\")\n",
        "plt.show()"
      ],
      "id": "MlMzrVV1X-OX"
    }
  ],
  "metadata": {
    "accelerator": "GPU",
    "colab": {
      "name": "distilbert.ipynb",
      "provenance": []
    },
    "kernelspec": {
      "display_name": "Python 3",
      "language": "python",
      "name": "python3"
    },
    "language_info": {
      "codemirror_mode": {
        "name": "ipython",
        "version": 3
      },
      "file_extension": ".py",
      "mimetype": "text/x-python",
      "name": "python",
      "nbconvert_exporter": "python",
      "pygments_lexer": "ipython3",
      "version": "3.8.8"
    }
  },
  "nbformat": 4,
  "nbformat_minor": 5
}