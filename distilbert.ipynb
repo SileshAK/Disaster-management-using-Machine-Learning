{
  "cells": [
    {
      "cell_type": "code",
      "execution_count": null,
      "id": "f670da9b",
      "metadata": {
        "id": "f670da9b"
      },
      "outputs": [],
      "source": [
        "import tensorflow as tf\n",
        "import tensorflow_hub as hub\n",
        "import tensorflow_text as text"
      ]
    },
    {
      "cell_type": "code",
      "execution_count": null,
      "id": "16bed911",
      "metadata": {
        "id": "16bed911"
      },
      "outputs": [],
      "source": [
        "bert_preprocess = hub.KerasLayer(\"https://tfhub.dev/jeongukjae/distilbert_en_uncased_preprocess/2\")\n",
        "bert_encoder = hub.KerasLayer(\"https://tfhub.dev/jeongukjae/distilbert_en_uncased_L-6_H-768_A-12/1\")"
      ]
    },
    {
      "cell_type": "code",
      "execution_count": null,
      "id": "fe6289bc",
      "metadata": {
        "colab": {
          "base_uri": "https://localhost:8080/",
          "height": 354
        },
        "id": "fe6289bc",
        "outputId": "d73dd825-3299-4db9-a0bd-8438fcdba4b2"
      },
      "outputs": [
        {
          "data": {
            "text/html": [
              "\n",
              "  <div id=\"df-250e904e-841e-46fe-bbc3-efd7544bb4b8\">\n",
              "    <div class=\"colab-df-container\">\n",
              "      <div>\n",
              "<style scoped>\n",
              "    .dataframe tbody tr th:only-of-type {\n",
              "        vertical-align: middle;\n",
              "    }\n",
              "\n",
              "    .dataframe tbody tr th {\n",
              "        vertical-align: top;\n",
              "    }\n",
              "\n",
              "    .dataframe thead th {\n",
              "        text-align: right;\n",
              "    }\n",
              "</style>\n",
              "<table border=\"1\" class=\"dataframe\">\n",
              "  <thead>\n",
              "    <tr style=\"text-align: right;\">\n",
              "      <th></th>\n",
              "      <th>Unnamed: 0</th>\n",
              "      <th>username</th>\n",
              "      <th>description</th>\n",
              "      <th>location</th>\n",
              "      <th>following</th>\n",
              "      <th>followers</th>\n",
              "      <th>totaltweets</th>\n",
              "      <th>retweetcount</th>\n",
              "      <th>text</th>\n",
              "      <th>target</th>\n",
              "      <th>hashtags</th>\n",
              "      <th>actual_time</th>\n",
              "    </tr>\n",
              "  </thead>\n",
              "  <tbody>\n",
              "    <tr>\n",
              "      <th>0</th>\n",
              "      <td>725</td>\n",
              "      <td>Ramvignesh490</td>\n",
              "      <td>NaN</td>\n",
              "      <td>Chennai</td>\n",
              "      <td>461</td>\n",
              "      <td>137</td>\n",
              "      <td>100993</td>\n",
              "      <td>106</td>\n",
              "      <td>Thousands of people throng the Chennai Metro R...</td>\n",
              "      <td>0</td>\n",
              "      <td>[]</td>\n",
              "      <td>2021-12-31 10:33:09+00:00</td>\n",
              "    </tr>\n",
              "    <tr>\n",
              "      <th>1</th>\n",
              "      <td>427</td>\n",
              "      <td>ManickamJebason</td>\n",
              "      <td>NaN</td>\n",
              "      <td>NaN</td>\n",
              "      <td>571</td>\n",
              "      <td>344</td>\n",
              "      <td>35084</td>\n",
              "      <td>605</td>\n",
              "      <td>If it floods everytime it rains, Then the rain...</td>\n",
              "      <td>1</td>\n",
              "      <td>['Chennai']</td>\n",
              "      <td>2021-12-31 09:18:18+00:00</td>\n",
              "    </tr>\n",
              "    <tr>\n",
              "      <th>2</th>\n",
              "      <td>542</td>\n",
              "      <td>nousha1212</td>\n",
              "      <td>தமிழன்...|born to express,not impress\\n|</td>\n",
              "      <td>NaN</td>\n",
              "      <td>567</td>\n",
              "      <td>88</td>\n",
              "      <td>7994</td>\n",
              "      <td>605</td>\n",
              "      <td>If it floods everytime it rains, Then the rain...</td>\n",
              "      <td>1</td>\n",
              "      <td>['Chennai']</td>\n",
              "      <td>2021-12-31 07:55:52+00:00</td>\n",
              "    </tr>\n",
              "    <tr>\n",
              "      <th>3</th>\n",
              "      <td>375</td>\n",
              "      <td>chinnapper_aj</td>\n",
              "      <td>NaN</td>\n",
              "      <td>NaN</td>\n",
              "      <td>459</td>\n",
              "      <td>362</td>\n",
              "      <td>2448</td>\n",
              "      <td>605</td>\n",
              "      <td>If it floods everytime it rains, Then the rain...</td>\n",
              "      <td>1</td>\n",
              "      <td>['Chennai']</td>\n",
              "      <td>2021-12-31 10:27:34+00:00</td>\n",
              "    </tr>\n",
              "    <tr>\n",
              "      <th>4</th>\n",
              "      <td>168</td>\n",
              "      <td>VMeenakshiSun13</td>\n",
              "      <td>NaN</td>\n",
              "      <td>NaN</td>\n",
              "      <td>129</td>\n",
              "      <td>0</td>\n",
              "      <td>70</td>\n",
              "      <td>605</td>\n",
              "      <td>If it floods everytime it rains, Then the rain...</td>\n",
              "      <td>1</td>\n",
              "      <td>['Chennai']</td>\n",
              "      <td>2022-01-01 05:29:50+00:00</td>\n",
              "    </tr>\n",
              "  </tbody>\n",
              "</table>\n",
              "</div>\n",
              "      <button class=\"colab-df-convert\" onclick=\"convertToInteractive('df-250e904e-841e-46fe-bbc3-efd7544bb4b8')\"\n",
              "              title=\"Convert this dataframe to an interactive table.\"\n",
              "              style=\"display:none;\">\n",
              "        \n",
              "  <svg xmlns=\"http://www.w3.org/2000/svg\" height=\"24px\"viewBox=\"0 0 24 24\"\n",
              "       width=\"24px\">\n",
              "    <path d=\"M0 0h24v24H0V0z\" fill=\"none\"/>\n",
              "    <path d=\"M18.56 5.44l.94 2.06.94-2.06 2.06-.94-2.06-.94-.94-2.06-.94 2.06-2.06.94zm-11 1L8.5 8.5l.94-2.06 2.06-.94-2.06-.94L8.5 2.5l-.94 2.06-2.06.94zm10 10l.94 2.06.94-2.06 2.06-.94-2.06-.94-.94-2.06-.94 2.06-2.06.94z\"/><path d=\"M17.41 7.96l-1.37-1.37c-.4-.4-.92-.59-1.43-.59-.52 0-1.04.2-1.43.59L10.3 9.45l-7.72 7.72c-.78.78-.78 2.05 0 2.83L4 21.41c.39.39.9.59 1.41.59.51 0 1.02-.2 1.41-.59l7.78-7.78 2.81-2.81c.8-.78.8-2.07 0-2.86zM5.41 20L4 18.59l7.72-7.72 1.47 1.35L5.41 20z\"/>\n",
              "  </svg>\n",
              "      </button>\n",
              "      \n",
              "  <style>\n",
              "    .colab-df-container {\n",
              "      display:flex;\n",
              "      flex-wrap:wrap;\n",
              "      gap: 12px;\n",
              "    }\n",
              "\n",
              "    .colab-df-convert {\n",
              "      background-color: #E8F0FE;\n",
              "      border: none;\n",
              "      border-radius: 50%;\n",
              "      cursor: pointer;\n",
              "      display: none;\n",
              "      fill: #1967D2;\n",
              "      height: 32px;\n",
              "      padding: 0 0 0 0;\n",
              "      width: 32px;\n",
              "    }\n",
              "\n",
              "    .colab-df-convert:hover {\n",
              "      background-color: #E2EBFA;\n",
              "      box-shadow: 0px 1px 2px rgba(60, 64, 67, 0.3), 0px 1px 3px 1px rgba(60, 64, 67, 0.15);\n",
              "      fill: #174EA6;\n",
              "    }\n",
              "\n",
              "    [theme=dark] .colab-df-convert {\n",
              "      background-color: #3B4455;\n",
              "      fill: #D2E3FC;\n",
              "    }\n",
              "\n",
              "    [theme=dark] .colab-df-convert:hover {\n",
              "      background-color: #434B5C;\n",
              "      box-shadow: 0px 1px 3px 1px rgba(0, 0, 0, 0.15);\n",
              "      filter: drop-shadow(0px 1px 2px rgba(0, 0, 0, 0.3));\n",
              "      fill: #FFFFFF;\n",
              "    }\n",
              "  </style>\n",
              "\n",
              "      <script>\n",
              "        const buttonEl =\n",
              "          document.querySelector('#df-250e904e-841e-46fe-bbc3-efd7544bb4b8 button.colab-df-convert');\n",
              "        buttonEl.style.display =\n",
              "          google.colab.kernel.accessAllowed ? 'block' : 'none';\n",
              "\n",
              "        async function convertToInteractive(key) {\n",
              "          const element = document.querySelector('#df-250e904e-841e-46fe-bbc3-efd7544bb4b8');\n",
              "          const dataTable =\n",
              "            await google.colab.kernel.invokeFunction('convertToInteractive',\n",
              "                                                     [key], {});\n",
              "          if (!dataTable) return;\n",
              "\n",
              "          const docLinkHtml = 'Like what you see? Visit the ' +\n",
              "            '<a target=\"_blank\" href=https://colab.research.google.com/notebooks/data_table.ipynb>data table notebook</a>'\n",
              "            + ' to learn more about interactive tables.';\n",
              "          element.innerHTML = '';\n",
              "          dataTable['output_type'] = 'display_data';\n",
              "          await google.colab.output.renderOutput(dataTable, element);\n",
              "          const docLink = document.createElement('div');\n",
              "          docLink.innerHTML = docLinkHtml;\n",
              "          element.appendChild(docLink);\n",
              "        }\n",
              "      </script>\n",
              "    </div>\n",
              "  </div>\n",
              "  "
            ],
            "text/plain": [
              "   Unnamed: 0         username  ...     hashtags                actual_time\n",
              "0         725    Ramvignesh490  ...           []  2021-12-31 10:33:09+00:00\n",
              "1         427  ManickamJebason  ...  ['Chennai']  2021-12-31 09:18:18+00:00\n",
              "2         542       nousha1212  ...  ['Chennai']  2021-12-31 07:55:52+00:00\n",
              "3         375    chinnapper_aj  ...  ['Chennai']  2021-12-31 10:27:34+00:00\n",
              "4         168  VMeenakshiSun13  ...  ['Chennai']  2022-01-01 05:29:50+00:00\n",
              "\n",
              "[5 rows x 12 columns]"
            ]
          },
          "execution_count": 5,
          "metadata": {},
          "output_type": "execute_result"
        }
      ],
      "source": [
        "import pandas as pd\n",
        "import numpy as np \n",
        "import nltk\n",
        "import tensorflow as tf\n",
        "df3=pd.read_csv(\"final_tweets.csv\",parse_dates = True)\n",
        "df3.head()"
      ]
    },
    {
      "cell_type": "code",
      "execution_count": null,
      "id": "3f53a375",
      "metadata": {
        "id": "3f53a375"
      },
      "outputs": [],
      "source": [
        "from sklearn.model_selection import train_test_split\n",
        "X_train, X_test, y_train, y_test = train_test_split((df3['text']),df3['target'],train_size=0.8,test_size=0.2,random_state=True)"
      ]
    },
    {
      "cell_type": "code",
      "execution_count": null,
      "id": "234b9015",
      "metadata": {
        "id": "234b9015"
      },
      "outputs": [],
      "source": [
        "text_input = tf.keras.layers.Input(shape=(), dtype=tf.string, name='text-layer')\n",
        "preprocessed_text = bert_preprocess(text_input)\n",
        "outputs = bert_encoder(preprocessed_text)\n",
        "d_layer = tf.keras.layers.Dropout(0.1, name=\"dropout-layer\")(outputs['pooled_output'])\n",
        "d_layer = tf.keras.layers.Dense(1, activation='sigmoid', name=\"output\")(d_layer)\n",
        "model = tf.keras.Model(inputs=[text_input], outputs = [d_layer])"
      ]
    },
    {
      "cell_type": "code",
      "execution_count": null,
      "id": "cafe57a5",
      "metadata": {
        "colab": {
          "base_uri": "https://localhost:8080/"
        },
        "id": "cafe57a5",
        "outputId": "e5d511ee-5139-40b1-b432-e3c6342f1836"
      },
      "outputs": [
        {
          "name": "stdout",
          "output_type": "stream",
          "text": [
            "Model: \"model\"\n",
            "__________________________________________________________________________________________________\n",
            " Layer (type)                   Output Shape         Param #     Connected to                     \n",
            "==================================================================================================\n",
            " text-layer (InputLayer)        [(None,)]            0           []                               \n",
            "                                                                                                  \n",
            " keras_layer (KerasLayer)       {'input_mask': (Non  0           ['text-layer[0][0]']             \n",
            "                                e, 128),                                                          \n",
            "                                 'input_word_ids':                                                \n",
            "                                (None, 128)}                                                      \n",
            "                                                                                                  \n",
            " keras_layer_1 (KerasLayer)     {'encoder_outputs':  66362880    ['keras_layer[0][0]',            \n",
            "                                 [(None, 128, 768),               'keras_layer[0][1]']            \n",
            "                                 (None, 128, 768),                                                \n",
            "                                 (None, 128, 768),                                                \n",
            "                                 (None, 128, 768),                                                \n",
            "                                 (None, 128, 768),                                                \n",
            "                                 (None, 128, 768)],                                               \n",
            "                                 'sequence_output':                                               \n",
            "                                 (None, 128, 768),                                                \n",
            "                                 'pooled_output': (                                               \n",
            "                                None, 768)}                                                       \n",
            "                                                                                                  \n",
            " dropout-layer (Dropout)        (None, 768)          0           ['keras_layer_1[0][6]']          \n",
            "                                                                                                  \n",
            " output (Dense)                 (None, 1)            769         ['dropout-layer[0][0]']          \n",
            "                                                                                                  \n",
            "==================================================================================================\n",
            "Total params: 66,363,649\n",
            "Trainable params: 769\n",
            "Non-trainable params: 66,362,880\n",
            "__________________________________________________________________________________________________\n"
          ]
        }
      ],
      "source": [
        "model.summary()"
      ]
    },
    {
      "cell_type": "code",
      "execution_count": null,
      "id": "bea1d7d5",
      "metadata": {
        "id": "bea1d7d5"
      },
      "outputs": [],
      "source": [
        "m= [\n",
        "      tf.keras.metrics.BinaryAccuracy(name='accuracy'),\n",
        "      tf.keras.metrics.Precision(name='precision'),\n",
        "      tf.keras.metrics.Recall(name='recall')\n",
        "]\n",
        "model.compile(optimizer='adam', loss='binary_crossentropy', metrics=m)"
      ]
    },
    {
      "cell_type": "code",
      "execution_count": null,
      "id": "af4bc6eb",
      "metadata": {
        "colab": {
          "base_uri": "https://localhost:8080/"
        },
        "id": "af4bc6eb",
        "outputId": "a63fd9cc-844c-4b26-90fa-170cae3f2544"
      },
      "outputs": [
        {
          "name": "stdout",
          "output_type": "stream",
          "text": [
            "Epoch 1/100\n",
            "20/20 [==============================] - 7s 370ms/step - loss: 0.0685 - accuracy: 0.9797 - precision: 0.9831 - recall: 0.9924\n",
            "Epoch 2/100\n",
            "20/20 [==============================] - 7s 369ms/step - loss: 0.0692 - accuracy: 0.9766 - precision: 0.9795 - recall: 0.9924\n",
            "Epoch 3/100\n",
            "20/20 [==============================] - 7s 372ms/step - loss: 0.0684 - accuracy: 0.9844 - precision: 0.9850 - recall: 0.9962\n",
            "Epoch 4/100\n",
            "20/20 [==============================] - 7s 374ms/step - loss: 0.0627 - accuracy: 0.9875 - precision: 0.9887 - recall: 0.9962\n",
            "Epoch 5/100\n",
            "20/20 [==============================] - 7s 371ms/step - loss: 0.0635 - accuracy: 0.9844 - precision: 0.9869 - recall: 0.9943\n",
            "Epoch 6/100\n",
            "20/20 [==============================] - 7s 369ms/step - loss: 0.0641 - accuracy: 0.9859 - precision: 0.9869 - recall: 0.9962\n",
            "Epoch 7/100\n",
            "20/20 [==============================] - 7s 370ms/step - loss: 0.0650 - accuracy: 0.9766 - precision: 0.9795 - recall: 0.9924\n",
            "Epoch 8/100\n",
            "20/20 [==============================] - 7s 371ms/step - loss: 0.0614 - accuracy: 0.9875 - precision: 0.9906 - recall: 0.9943\n",
            "Epoch 9/100\n",
            "20/20 [==============================] - 7s 372ms/step - loss: 0.0650 - accuracy: 0.9781 - precision: 0.9813 - recall: 0.9924\n",
            "Epoch 10/100\n",
            "20/20 [==============================] - 7s 370ms/step - loss: 0.0632 - accuracy: 0.9844 - precision: 0.9869 - recall: 0.9943\n",
            "Epoch 11/100\n",
            "20/20 [==============================] - 7s 371ms/step - loss: 0.0594 - accuracy: 0.9844 - precision: 0.9887 - recall: 0.9924\n",
            "Epoch 12/100\n",
            "20/20 [==============================] - 7s 372ms/step - loss: 0.0608 - accuracy: 0.9844 - precision: 0.9869 - recall: 0.9943\n",
            "Epoch 13/100\n",
            "20/20 [==============================] - 7s 374ms/step - loss: 0.0581 - accuracy: 0.9859 - precision: 0.9887 - recall: 0.9943\n",
            "Epoch 14/100\n",
            "20/20 [==============================] - 7s 369ms/step - loss: 0.0631 - accuracy: 0.9797 - precision: 0.9831 - recall: 0.9924\n",
            "Epoch 15/100\n",
            "20/20 [==============================] - 7s 373ms/step - loss: 0.0615 - accuracy: 0.9828 - precision: 0.9868 - recall: 0.9924\n",
            "Epoch 16/100\n",
            "20/20 [==============================] - 7s 373ms/step - loss: 0.0591 - accuracy: 0.9859 - precision: 0.9869 - recall: 0.9962\n",
            "Epoch 17/100\n",
            "20/20 [==============================] - 7s 372ms/step - loss: 0.0595 - accuracy: 0.9875 - precision: 0.9924 - recall: 0.9924\n",
            "Epoch 18/100\n",
            "20/20 [==============================] - 7s 370ms/step - loss: 0.0622 - accuracy: 0.9781 - precision: 0.9795 - recall: 0.9943\n",
            "Epoch 19/100\n",
            "20/20 [==============================] - 7s 373ms/step - loss: 0.0582 - accuracy: 0.9844 - precision: 0.9850 - recall: 0.9962\n",
            "Epoch 20/100\n",
            "20/20 [==============================] - 7s 374ms/step - loss: 0.0588 - accuracy: 0.9844 - precision: 0.9887 - recall: 0.9924\n",
            "Epoch 21/100\n",
            "20/20 [==============================] - 7s 373ms/step - loss: 0.0558 - accuracy: 0.9875 - precision: 0.9887 - recall: 0.9962\n",
            "Epoch 22/100\n",
            "20/20 [==============================] - 7s 374ms/step - loss: 0.0575 - accuracy: 0.9859 - precision: 0.9887 - recall: 0.9943\n",
            "Epoch 23/100\n",
            "20/20 [==============================] - 7s 372ms/step - loss: 0.0619 - accuracy: 0.9797 - precision: 0.9831 - recall: 0.9924\n",
            "Epoch 24/100\n",
            "20/20 [==============================] - 7s 373ms/step - loss: 0.0560 - accuracy: 0.9859 - precision: 0.9906 - recall: 0.9924\n",
            "Epoch 25/100\n",
            "20/20 [==============================] - 7s 372ms/step - loss: 0.0572 - accuracy: 0.9891 - precision: 0.9925 - recall: 0.9943\n",
            "Epoch 26/100\n",
            "20/20 [==============================] - 7s 371ms/step - loss: 0.0530 - accuracy: 0.9875 - precision: 0.9869 - recall: 0.9981\n",
            "Epoch 27/100\n",
            "20/20 [==============================] - 7s 372ms/step - loss: 0.0574 - accuracy: 0.9844 - precision: 0.9832 - recall: 0.9981\n",
            "Epoch 28/100\n",
            "20/20 [==============================] - 7s 372ms/step - loss: 0.0542 - accuracy: 0.9906 - precision: 0.9943 - recall: 0.9943\n",
            "Epoch 29/100\n",
            "20/20 [==============================] - 8s 376ms/step - loss: 0.0547 - accuracy: 0.9859 - precision: 0.9887 - recall: 0.9943\n",
            "Epoch 30/100\n",
            "20/20 [==============================] - 7s 370ms/step - loss: 0.0568 - accuracy: 0.9859 - precision: 0.9869 - recall: 0.9962\n",
            "Epoch 31/100\n",
            "20/20 [==============================] - 7s 373ms/step - loss: 0.0530 - accuracy: 0.9891 - precision: 0.9888 - recall: 0.9981\n",
            "Epoch 32/100\n",
            "20/20 [==============================] - 7s 373ms/step - loss: 0.0563 - accuracy: 0.9844 - precision: 0.9850 - recall: 0.9962\n",
            "Epoch 33/100\n",
            "20/20 [==============================] - 7s 370ms/step - loss: 0.0556 - accuracy: 0.9859 - precision: 0.9906 - recall: 0.9924\n",
            "Epoch 34/100\n",
            "20/20 [==============================] - 7s 370ms/step - loss: 0.0505 - accuracy: 0.9922 - precision: 0.9925 - recall: 0.9981\n",
            "Epoch 35/100\n",
            "20/20 [==============================] - 7s 374ms/step - loss: 0.0546 - accuracy: 0.9828 - precision: 0.9868 - recall: 0.9924\n",
            "Epoch 36/100\n",
            "20/20 [==============================] - 7s 374ms/step - loss: 0.0529 - accuracy: 0.9875 - precision: 0.9851 - recall: 1.0000\n",
            "Epoch 37/100\n",
            "20/20 [==============================] - 7s 371ms/step - loss: 0.0508 - accuracy: 0.9891 - precision: 0.9925 - recall: 0.9943\n",
            "Epoch 38/100\n",
            "20/20 [==============================] - 7s 372ms/step - loss: 0.0495 - accuracy: 0.9906 - precision: 0.9888 - recall: 1.0000\n",
            "Epoch 39/100\n",
            "20/20 [==============================] - 7s 373ms/step - loss: 0.0519 - accuracy: 0.9875 - precision: 0.9906 - recall: 0.9943\n",
            "Epoch 40/100\n",
            "20/20 [==============================] - 7s 374ms/step - loss: 0.0513 - accuracy: 0.9875 - precision: 0.9906 - recall: 0.9943\n",
            "Epoch 41/100\n",
            "20/20 [==============================] - 7s 372ms/step - loss: 0.0503 - accuracy: 0.9875 - precision: 0.9869 - recall: 0.9981\n",
            "Epoch 42/100\n",
            "20/20 [==============================] - 7s 372ms/step - loss: 0.0498 - accuracy: 0.9859 - precision: 0.9887 - recall: 0.9943\n",
            "Epoch 43/100\n",
            "20/20 [==============================] - 7s 372ms/step - loss: 0.0524 - accuracy: 0.9875 - precision: 0.9887 - recall: 0.9962\n",
            "Epoch 44/100\n",
            "20/20 [==============================] - 7s 373ms/step - loss: 0.0506 - accuracy: 0.9859 - precision: 0.9869 - recall: 0.9962\n",
            "Epoch 45/100\n",
            "20/20 [==============================] - 7s 373ms/step - loss: 0.0493 - accuracy: 0.9953 - precision: 0.9962 - recall: 0.9981\n",
            "Epoch 46/100\n",
            "20/20 [==============================] - 8s 376ms/step - loss: 0.0489 - accuracy: 0.9891 - precision: 0.9906 - recall: 0.9962\n",
            "Epoch 47/100\n",
            "20/20 [==============================] - 8s 376ms/step - loss: 0.0516 - accuracy: 0.9875 - precision: 0.9924 - recall: 0.9924\n",
            "Epoch 48/100\n",
            "20/20 [==============================] - 8s 376ms/step - loss: 0.0448 - accuracy: 0.9906 - precision: 0.9925 - recall: 0.9962\n",
            "Epoch 49/100\n",
            "20/20 [==============================] - 7s 375ms/step - loss: 0.0447 - accuracy: 0.9953 - precision: 0.9962 - recall: 0.9981\n",
            "Epoch 50/100\n",
            "20/20 [==============================] - 8s 376ms/step - loss: 0.0477 - accuracy: 0.9891 - precision: 0.9888 - recall: 0.9981\n",
            "Epoch 51/100\n",
            "20/20 [==============================] - 8s 376ms/step - loss: 0.0496 - accuracy: 0.9875 - precision: 0.9924 - recall: 0.9924\n",
            "Epoch 52/100\n",
            "20/20 [==============================] - 8s 375ms/step - loss: 0.0461 - accuracy: 0.9937 - precision: 0.9944 - recall: 0.9981\n",
            "Epoch 53/100\n",
            "20/20 [==============================] - 7s 373ms/step - loss: 0.0449 - accuracy: 0.9937 - precision: 0.9925 - recall: 1.0000\n",
            "Epoch 54/100\n",
            "20/20 [==============================] - 7s 374ms/step - loss: 0.0469 - accuracy: 0.9891 - precision: 0.9906 - recall: 0.9962\n",
            "Epoch 55/100\n",
            "20/20 [==============================] - 8s 378ms/step - loss: 0.0488 - accuracy: 0.9875 - precision: 0.9924 - recall: 0.9924\n",
            "Epoch 56/100\n",
            "20/20 [==============================] - 7s 374ms/step - loss: 0.0480 - accuracy: 0.9859 - precision: 0.9869 - recall: 0.9962\n",
            "Epoch 57/100\n",
            "20/20 [==============================] - 7s 373ms/step - loss: 0.0443 - accuracy: 0.9937 - precision: 0.9962 - recall: 0.9962\n",
            "Epoch 58/100\n",
            "20/20 [==============================] - 7s 371ms/step - loss: 0.0417 - accuracy: 0.9922 - precision: 0.9943 - recall: 0.9962\n",
            "Epoch 59/100\n",
            "20/20 [==============================] - 7s 373ms/step - loss: 0.0483 - accuracy: 0.9875 - precision: 0.9906 - recall: 0.9943\n",
            "Epoch 60/100\n",
            "20/20 [==============================] - 7s 375ms/step - loss: 0.0467 - accuracy: 0.9859 - precision: 0.9869 - recall: 0.9962\n",
            "Epoch 61/100\n",
            "20/20 [==============================] - 7s 375ms/step - loss: 0.0435 - accuracy: 0.9922 - precision: 0.9925 - recall: 0.9981\n",
            "Epoch 62/100\n",
            "20/20 [==============================] - 7s 368ms/step - loss: 0.0427 - accuracy: 0.9937 - precision: 0.9981 - recall: 0.9943\n",
            "Epoch 63/100\n",
            "20/20 [==============================] - 7s 368ms/step - loss: 0.0444 - accuracy: 0.9969 - precision: 0.9962 - recall: 1.0000\n",
            "Epoch 64/100\n",
            "20/20 [==============================] - 7s 365ms/step - loss: 0.0419 - accuracy: 0.9953 - precision: 0.9962 - recall: 0.9981\n",
            "Epoch 65/100\n",
            "20/20 [==============================] - 7s 369ms/step - loss: 0.0463 - accuracy: 0.9891 - precision: 0.9906 - recall: 0.9962\n",
            "Epoch 66/100\n",
            "20/20 [==============================] - 7s 369ms/step - loss: 0.0454 - accuracy: 0.9859 - precision: 0.9869 - recall: 0.9962\n",
            "Epoch 67/100\n",
            "20/20 [==============================] - 7s 367ms/step - loss: 0.0432 - accuracy: 0.9906 - precision: 0.9962 - recall: 0.9924\n",
            "Epoch 68/100\n",
            "20/20 [==============================] - 7s 373ms/step - loss: 0.0447 - accuracy: 0.9875 - precision: 0.9887 - recall: 0.9962\n",
            "Epoch 69/100\n",
            "20/20 [==============================] - 7s 370ms/step - loss: 0.0459 - accuracy: 0.9891 - precision: 0.9888 - recall: 0.9981\n",
            "Epoch 70/100\n",
            "20/20 [==============================] - 7s 371ms/step - loss: 0.0430 - accuracy: 0.9922 - precision: 0.9943 - recall: 0.9962\n",
            "Epoch 71/100\n",
            "20/20 [==============================] - 7s 373ms/step - loss: 0.0411 - accuracy: 0.9937 - precision: 0.9944 - recall: 0.9981\n",
            "Epoch 72/100\n",
            "20/20 [==============================] - 7s 371ms/step - loss: 0.0412 - accuracy: 0.9937 - precision: 0.9962 - recall: 0.9962\n",
            "Epoch 73/100\n",
            "20/20 [==============================] - 7s 372ms/step - loss: 0.0420 - accuracy: 0.9922 - precision: 0.9925 - recall: 0.9981\n",
            "Epoch 74/100\n",
            "20/20 [==============================] - 7s 370ms/step - loss: 0.0398 - accuracy: 0.9937 - precision: 0.9944 - recall: 0.9981\n",
            "Epoch 75/100\n",
            "20/20 [==============================] - 7s 374ms/step - loss: 0.0385 - accuracy: 0.9937 - precision: 0.9981 - recall: 0.9943\n",
            "Epoch 76/100\n",
            "20/20 [==============================] - 8s 376ms/step - loss: 0.0384 - accuracy: 0.9969 - precision: 0.9962 - recall: 1.0000\n",
            "Epoch 77/100\n",
            "20/20 [==============================] - 7s 372ms/step - loss: 0.0402 - accuracy: 0.9922 - precision: 0.9925 - recall: 0.9981\n",
            "Epoch 78/100\n",
            "20/20 [==============================] - 7s 372ms/step - loss: 0.0374 - accuracy: 0.9937 - precision: 0.9925 - recall: 1.0000\n",
            "Epoch 79/100\n",
            "20/20 [==============================] - 7s 373ms/step - loss: 0.0433 - accuracy: 0.9891 - precision: 0.9925 - recall: 0.9943\n",
            "Epoch 80/100\n",
            "20/20 [==============================] - 7s 372ms/step - loss: 0.0384 - accuracy: 0.9953 - precision: 0.9944 - recall: 1.0000\n",
            "Epoch 81/100\n",
            "20/20 [==============================] - 7s 372ms/step - loss: 0.0388 - accuracy: 0.9937 - precision: 0.9962 - recall: 0.9962\n",
            "Epoch 82/100\n",
            "20/20 [==============================] - 7s 370ms/step - loss: 0.0384 - accuracy: 0.9937 - precision: 0.9925 - recall: 1.0000\n",
            "Epoch 83/100\n",
            "20/20 [==============================] - 7s 371ms/step - loss: 0.0381 - accuracy: 0.9937 - precision: 0.9962 - recall: 0.9962\n",
            "Epoch 84/100\n",
            "20/20 [==============================] - 7s 373ms/step - loss: 0.0367 - accuracy: 0.9953 - precision: 0.9981 - recall: 0.9962\n",
            "Epoch 85/100\n",
            "20/20 [==============================] - 7s 372ms/step - loss: 0.0381 - accuracy: 0.9953 - precision: 0.9944 - recall: 1.0000\n",
            "Epoch 86/100\n",
            "20/20 [==============================] - 7s 374ms/step - loss: 0.0385 - accuracy: 0.9937 - precision: 0.9962 - recall: 0.9962\n",
            "Epoch 87/100\n",
            "20/20 [==============================] - 7s 369ms/step - loss: 0.0353 - accuracy: 0.9953 - precision: 0.9962 - recall: 0.9981\n",
            "Epoch 88/100\n",
            "20/20 [==============================] - 7s 371ms/step - loss: 0.0371 - accuracy: 0.9922 - precision: 0.9925 - recall: 0.9981\n",
            "Epoch 89/100\n",
            "20/20 [==============================] - 7s 371ms/step - loss: 0.0399 - accuracy: 0.9891 - precision: 0.9906 - recall: 0.9962\n",
            "Epoch 90/100\n",
            "20/20 [==============================] - 7s 370ms/step - loss: 0.0388 - accuracy: 0.9922 - precision: 0.9943 - recall: 0.9962\n",
            "Epoch 91/100\n",
            "20/20 [==============================] - 7s 371ms/step - loss: 0.0349 - accuracy: 0.9953 - precision: 0.9962 - recall: 0.9981\n",
            "Epoch 92/100\n",
            "20/20 [==============================] - 7s 369ms/step - loss: 0.0367 - accuracy: 0.9953 - precision: 0.9962 - recall: 0.9981\n",
            "Epoch 93/100\n",
            "20/20 [==============================] - 7s 372ms/step - loss: 0.0395 - accuracy: 0.9922 - precision: 0.9981 - recall: 0.9924\n",
            "Epoch 94/100\n",
            "20/20 [==============================] - 7s 374ms/step - loss: 0.0365 - accuracy: 0.9937 - precision: 0.9944 - recall: 0.9981\n",
            "Epoch 95/100\n",
            "20/20 [==============================] - 7s 374ms/step - loss: 0.0376 - accuracy: 0.9969 - precision: 0.9981 - recall: 0.9981\n",
            "Epoch 96/100\n",
            "20/20 [==============================] - 7s 374ms/step - loss: 0.0318 - accuracy: 0.9969 - precision: 0.9981 - recall: 0.9981\n",
            "Epoch 97/100\n",
            "20/20 [==============================] - 7s 371ms/step - loss: 0.0355 - accuracy: 0.9953 - precision: 0.9944 - recall: 1.0000\n",
            "Epoch 98/100\n",
            "20/20 [==============================] - 7s 374ms/step - loss: 0.0343 - accuracy: 0.9922 - precision: 0.9925 - recall: 0.9981\n",
            "Epoch 99/100\n",
            "20/20 [==============================] - 7s 371ms/step - loss: 0.0366 - accuracy: 0.9969 - precision: 0.9962 - recall: 1.0000\n",
            "Epoch 100/100\n",
            "20/20 [==============================] - 7s 374ms/step - loss: 0.0326 - accuracy: 0.9953 - precision: 0.9944 - recall: 1.0000\n"
          ]
        },
        {
          "data": {
            "text/plain": [
              "<keras.callbacks.History at 0x7f1a4c040bd0>"
            ]
          },
          "execution_count": 11,
          "metadata": {},
          "output_type": "execute_result"
        }
      ],
      "source": [
        "model.fit(X_train, y_train,epochs=100)"
      ]
    },
    {
      "cell_type": "code",
      "execution_count": null,
      "id": "e5de32c9",
      "metadata": {
        "colab": {
          "base_uri": "https://localhost:8080/"
        },
        "id": "e5de32c9",
        "outputId": "bba4b1be-7eed-43f1-efa0-b980ee436bfc"
      },
      "outputs": [
        {
          "data": {
            "text/plain": [
              "array([[ 27,   1],\n",
              "       [  2, 130]])"
            ]
          },
          "execution_count": 12,
          "metadata": {},
          "output_type": "execute_result"
        }
      ],
      "source": [
        "import numpy as np\n",
        "y_predicted = model.predict(X_test)\n",
        "y_predicted = y_predicted.flatten()\n",
        "y_predicted = np.where(y_predicted > 0.5, 1, 0)\n",
        "from sklearn.metrics import confusion_matrix, classification_report\n",
        "matrix = confusion_matrix(y_test, y_predicted)\n",
        "matrix"
      ]
    },
    {
      "cell_type": "code",
      "execution_count": null,
      "id": "a052224e",
      "metadata": {
        "colab": {
          "base_uri": "https://localhost:8080/"
        },
        "id": "a052224e",
        "outputId": "d30443a0-7d26-4b21-fc3b-02cfbb672c35"
      },
      "outputs": [
        {
          "name": "stdout",
          "output_type": "stream",
          "text": [
            "              precision    recall  f1-score   support\n",
            "\n",
            "           0       0.93      0.96      0.95        28\n",
            "           1       0.99      0.98      0.99       132\n",
            "\n",
            "    accuracy                           0.98       160\n",
            "   macro avg       0.96      0.97      0.97       160\n",
            "weighted avg       0.98      0.98      0.98       160\n",
            "\n"
          ]
        }
      ],
      "source": [
        "print(classification_report(y_test, y_predicted))"
      ]
    },
    {
      "cell_type": "code",
      "execution_count": null,
      "id": "89e207d4",
      "metadata": {
        "colab": {
          "base_uri": "https://localhost:8080/"
        },
        "id": "89e207d4",
        "outputId": "bea41a62-5da5-4b1c-f5ae-b40e2fe5aecd"
      },
      "outputs": [
        {
          "data": {
            "text/plain": [
              "array([[0.9159733 ],\n",
              "       [0.16003874]], dtype=float32)"
            ]
          },
          "execution_count": 14,
          "metadata": {},
          "output_type": "execute_result"
        }
      ],
      "source": [
        "t = ['chennai drowning red alert floods','i am student']\n",
        "model.predict(t)"
      ]
    },
    {
      "cell_type": "code",
      "execution_count": null,
      "id": "GoynjsUcnOwx",
      "metadata": {
        "colab": {
          "base_uri": "https://localhost:8080/"
        },
        "id": "GoynjsUcnOwx",
        "outputId": "7224d232-ca2f-4f49-b8d3-45844b403003"
      },
      "outputs": [
        {
          "data": {
            "text/plain": [
              "array([[ 27,   1],\n",
              "       [  2, 130]])"
            ]
          },
          "execution_count": 15,
          "metadata": {},
          "output_type": "execute_result"
        }
      ],
      "source": [
        "from sklearn.metrics import confusion_matrix, classification_report\n",
        "cm = confusion_matrix(y_test, y_predicted)\n",
        "cm"
      ]
    },
    {
      "cell_type": "code",
      "execution_count": null,
      "id": "wRhR6k6-i_fj",
      "metadata": {
        "colab": {
          "base_uri": "https://localhost:8080/",
          "height": 296
        },
        "id": "wRhR6k6-i_fj",
        "outputId": "c71d5604-916d-4ef6-8491-fbcd15740caf"
      },
      "outputs": [
        {
          "data": {
            "text/plain": [
              "Text(33.0, 0.5, 'Truth')"
            ]
          },
          "execution_count": 16,
          "metadata": {},
          "output_type": "execute_result"
        },
        {
          "data": {
            "image/png": "[encoded data removed]",
            "text/plain": [
              "<Figure size 432x288 with 2 Axes>"
            ]
          },
          "metadata": {
            "needs_background": "light"
          },
          "output_type": "display_data"
        }
      ],
      "source": [
        "from matplotlib import pyplot as plt\n",
        "import seaborn as sn\n",
        "sn.heatmap(cm, annot=True, fmt='d')\n",
        "plt.xlabel('Predicted')\n",
        "plt.ylabel('Truth')"
      ]
    },
    {
      "cell_type": "code",
      "execution_count": null,
      "id": "5yA9c1O-YaYj",
      "metadata": {
        "colab": {
          "base_uri": "https://localhost:8080/",
          "height": 371
        },
        "id": "5yA9c1O-YaYj",
        "outputId": "9c846541-c9e3-4dff-81fe-8356cfba6193"
      },
      "outputs": [
        {
          "data": {
            "text/html": [
              "\n",
              "  <div id=\"df-95bdc969-fbc2-4ace-a29e-e851120a0226\">\n",
              "    <div class=\"colab-df-container\">\n",
              "      <div>\n",
              "<style scoped>\n",
              "    .dataframe tbody tr th:only-of-type {\n",
              "        vertical-align: middle;\n",
              "    }\n",
              "\n",
              "    .dataframe tbody tr th {\n",
              "        vertical-align: top;\n",
              "    }\n",
              "\n",
              "    .dataframe thead th {\n",
              "        text-align: right;\n",
              "    }\n",
              "</style>\n",
              "<table border=\"1\" class=\"dataframe\">\n",
              "  <thead>\n",
              "    <tr style=\"text-align: right;\">\n",
              "      <th></th>\n",
              "      <th>Unnamed: 0</th>\n",
              "      <th>username</th>\n",
              "      <th>description</th>\n",
              "      <th>location</th>\n",
              "      <th>following</th>\n",
              "      <th>followers</th>\n",
              "      <th>totaltweets</th>\n",
              "      <th>retweetcount</th>\n",
              "      <th>text</th>\n",
              "      <th>target</th>\n",
              "      <th>hashtags</th>\n",
              "      <th>actual_time</th>\n",
              "      <th>date</th>\n",
              "      <th>time</th>\n",
              "    </tr>\n",
              "  </thead>\n",
              "  <tbody>\n",
              "    <tr>\n",
              "      <th>0</th>\n",
              "      <td>725</td>\n",
              "      <td>Ramvignesh490</td>\n",
              "      <td>NaN</td>\n",
              "      <td>Chennai</td>\n",
              "      <td>461</td>\n",
              "      <td>137</td>\n",
              "      <td>100993</td>\n",
              "      <td>106</td>\n",
              "      <td>Thousands of people throng the Chennai Metro R...</td>\n",
              "      <td>0</td>\n",
              "      <td>[]</td>\n",
              "      <td>2021-12-31 10:33:09+00:00</td>\n",
              "      <td>2021-12-31</td>\n",
              "      <td>10:33:09</td>\n",
              "    </tr>\n",
              "    <tr>\n",
              "      <th>1</th>\n",
              "      <td>427</td>\n",
              "      <td>ManickamJebason</td>\n",
              "      <td>NaN</td>\n",
              "      <td>NaN</td>\n",
              "      <td>571</td>\n",
              "      <td>344</td>\n",
              "      <td>35084</td>\n",
              "      <td>605</td>\n",
              "      <td>If it floods everytime it rains, Then the rain...</td>\n",
              "      <td>1</td>\n",
              "      <td>['Chennai']</td>\n",
              "      <td>2021-12-31 09:18:18+00:00</td>\n",
              "      <td>2021-12-31</td>\n",
              "      <td>09:18:18</td>\n",
              "    </tr>\n",
              "    <tr>\n",
              "      <th>2</th>\n",
              "      <td>542</td>\n",
              "      <td>nousha1212</td>\n",
              "      <td>தமிழன்...|born to express,not impress\\n|</td>\n",
              "      <td>NaN</td>\n",
              "      <td>567</td>\n",
              "      <td>88</td>\n",
              "      <td>7994</td>\n",
              "      <td>605</td>\n",
              "      <td>If it floods everytime it rains, Then the rain...</td>\n",
              "      <td>1</td>\n",
              "      <td>['Chennai']</td>\n",
              "      <td>2021-12-31 07:55:52+00:00</td>\n",
              "      <td>2021-12-31</td>\n",
              "      <td>07:55:52</td>\n",
              "    </tr>\n",
              "    <tr>\n",
              "      <th>3</th>\n",
              "      <td>375</td>\n",
              "      <td>chinnapper_aj</td>\n",
              "      <td>NaN</td>\n",
              "      <td>NaN</td>\n",
              "      <td>459</td>\n",
              "      <td>362</td>\n",
              "      <td>2448</td>\n",
              "      <td>605</td>\n",
              "      <td>If it floods everytime it rains, Then the rain...</td>\n",
              "      <td>1</td>\n",
              "      <td>['Chennai']</td>\n",
              "      <td>2021-12-31 10:27:34+00:00</td>\n",
              "      <td>2021-12-31</td>\n",
              "      <td>10:27:34</td>\n",
              "    </tr>\n",
              "    <tr>\n",
              "      <th>4</th>\n",
              "      <td>168</td>\n",
              "      <td>VMeenakshiSun13</td>\n",
              "      <td>NaN</td>\n",
              "      <td>NaN</td>\n",
              "      <td>129</td>\n",
              "      <td>0</td>\n",
              "      <td>70</td>\n",
              "      <td>605</td>\n",
              "      <td>If it floods everytime it rains, Then the rain...</td>\n",
              "      <td>1</td>\n",
              "      <td>['Chennai']</td>\n",
              "      <td>2022-01-01 05:29:50+00:00</td>\n",
              "      <td>2022-01-01</td>\n",
              "      <td>05:29:50</td>\n",
              "    </tr>\n",
              "  </tbody>\n",
              "</table>\n",
              "</div>\n",
              "      <button class=\"colab-df-convert\" onclick=\"convertToInteractive('df-95bdc969-fbc2-4ace-a29e-e851120a0226')\"\n",
              "              title=\"Convert this dataframe to an interactive table.\"\n",
              "              style=\"display:none;\">\n",
              "        \n",
              "  <svg xmlns=\"http://www.w3.org/2000/svg\" height=\"24px\"viewBox=\"0 0 24 24\"\n",
              "       width=\"24px\">\n",
              "    <path d=\"M0 0h24v24H0V0z\" fill=\"none\"/>\n",
              "    <path d=\"M18.56 5.44l.94 2.06.94-2.06 2.06-.94-2.06-.94-.94-2.06-.94 2.06-2.06.94zm-11 1L8.5 8.5l.94-2.06 2.06-.94-2.06-.94L8.5 2.5l-.94 2.06-2.06.94zm10 10l.94 2.06.94-2.06 2.06-.94-2.06-.94-.94-2.06-.94 2.06-2.06.94z\"/><path d=\"M17.41 7.96l-1.37-1.37c-.4-.4-.92-.59-1.43-.59-.52 0-1.04.2-1.43.59L10.3 9.45l-7.72 7.72c-.78.78-.78 2.05 0 2.83L4 21.41c.39.39.9.59 1.41.59.51 0 1.02-.2 1.41-.59l7.78-7.78 2.81-2.81c.8-.78.8-2.07 0-2.86zM5.41 20L4 18.59l7.72-7.72 1.47 1.35L5.41 20z\"/>\n",
              "  </svg>\n",
              "      </button>\n",
              "      \n",
              "  <style>\n",
              "    .colab-df-container {\n",
              "      display:flex;\n",
              "      flex-wrap:wrap;\n",
              "      gap: 12px;\n",
              "    }\n",
              "\n",
              "    .colab-df-convert {\n",
              "      background-color: #E8F0FE;\n",
              "      border: none;\n",
              "      border-radius: 50%;\n",
              "      cursor: pointer;\n",
              "      display: none;\n",
              "      fill: #1967D2;\n",
              "      height: 32px;\n",
              "      padding: 0 0 0 0;\n",
              "      width: 32px;\n",
              "    }\n",
              "\n",
              "    .colab-df-convert:hover {\n",
              "      background-color: #E2EBFA;\n",
              "      box-shadow: 0px 1px 2px rgba(60, 64, 67, 0.3), 0px 1px 3px 1px rgba(60, 64, 67, 0.15);\n",
              "      fill: #174EA6;\n",
              "    }\n",
              "\n",
              "    [theme=dark] .colab-df-convert {\n",
              "      background-color: #3B4455;\n",
              "      fill: #D2E3FC;\n",
              "    }\n",
              "\n",
              "    [theme=dark] .colab-df-convert:hover {\n",
              "      background-color: #434B5C;\n",
              "      box-shadow: 0px 1px 3px 1px rgba(0, 0, 0, 0.15);\n",
              "      filter: drop-shadow(0px 1px 2px rgba(0, 0, 0, 0.3));\n",
              "      fill: #FFFFFF;\n",
              "    }\n",
              "  </style>\n",
              "\n",
              "      <script>\n",
              "        const buttonEl =\n",
              "          document.querySelector('#df-95bdc969-fbc2-4ace-a29e-e851120a0226 button.colab-df-convert');\n",
              "        buttonEl.style.display =\n",
              "          google.colab.kernel.accessAllowed ? 'block' : 'none';\n",
              "\n",
              "        async function convertToInteractive(key) {\n",
              "          const element = document.querySelector('#df-95bdc969-fbc2-4ace-a29e-e851120a0226');\n",
              "          const dataTable =\n",
              "            await google.colab.kernel.invokeFunction('convertToInteractive',\n",
              "                                                     [key], {});\n",
              "          if (!dataTable) return;\n",
              "\n",
              "          const docLinkHtml = 'Like what you see? Visit the ' +\n",
              "            '<a target=\"_blank\" href=https://colab.research.google.com/notebooks/data_table.ipynb>data table notebook</a>'\n",
              "            + ' to learn more about interactive tables.';\n",
              "          element.innerHTML = '';\n",
              "          dataTable['output_type'] = 'display_data';\n",
              "          await google.colab.output.renderOutput(dataTable, element);\n",
              "          const docLink = document.createElement('div');\n",
              "          docLink.innerHTML = docLinkHtml;\n",
              "          element.appendChild(docLink);\n",
              "        }\n",
              "      </script>\n",
              "    </div>\n",
              "  </div>\n",
              "  "
            ],
            "text/plain": [
              "   Unnamed: 0         username  ...        date      time\n",
              "0         725    Ramvignesh490  ...  2021-12-31  10:33:09\n",
              "1         427  ManickamJebason  ...  2021-12-31  09:18:18\n",
              "2         542       nousha1212  ...  2021-12-31  07:55:52\n",
              "3         375    chinnapper_aj  ...  2021-12-31  10:27:34\n",
              "4         168  VMeenakshiSun13  ...  2022-01-01  05:29:50\n",
              "\n",
              "[5 rows x 14 columns]"
            ]
          },
          "execution_count": 17,
          "metadata": {},
          "output_type": "execute_result"
        }
      ],
      "source": [
        "df3['date'] = pd.to_datetime(df3['actual_time']).dt.date\n",
        "df3['time'] = pd.to_datetime(df3['actual_time']).dt.time\n",
        "df3.head()"
      ]
    },
    {
      "cell_type": "code",
      "execution_count": null,
      "id": "MlMzrVV1X-OX",
      "metadata": {
        "colab": {
          "base_uri": "https://localhost:8080/",
          "height": 279
        },
        "id": "MlMzrVV1X-OX",
        "outputId": "bfcf87d9-8683-4e8e-9d18-4f0800f7c3f7"
      },
      "outputs": [
        {
          "data": {
            "image/png": "[encoded data removed]",
            "text/plain": [
              "<Figure size 432x288 with 1 Axes>"
            ]
          },
          "metadata": {
            "needs_background": "light"
          },
          "output_type": "display_data"
        }
      ],
      "source": [
        "import matplotlib.pyplot as plt\n",
        "\n",
        "plt.hist(df3['date'])\n",
        "plt.xlabel(\"Date\")\n",
        "plt.ylabel(\"Count\")\n",
        "plt.show()"
      ]
    }
  ],
  "metadata": {
    "accelerator": "GPU",
    "colab": {
      "name": "distilbert.ipynb",
      "provenance": []
    },
    "kernelspec": {
      "display_name": "Python 3 (ipykernel)",
      "language": "python",
      "name": "python3"
    },
    "language_info": {
      "codemirror_mode": {
        "name": "ipython",
        "version": 3
      },
      "file_extension": ".py",
      "mimetype": "text/x-python",
      "name": "python",
      "nbconvert_exporter": "python",
      "pygments_lexer": "ipython3",
      "version": "3.9.12"
    }
  },
  "nbformat": 4,
  "nbformat_minor": 5
}